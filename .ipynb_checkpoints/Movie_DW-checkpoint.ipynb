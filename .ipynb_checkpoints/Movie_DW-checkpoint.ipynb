{
 "cells": [
  {
   "cell_type": "markdown",
   "metadata": {
    "slideshow": {
     "slide_type": "slide"
    }
   },
   "source": [
    "## R과 MySQL을 활용한\n",
    "# 영화 데이터를 이용한 DW구축 실습\n",
    "* 충북대학교 빅데이터센터\n",
    "* 작성자 : 이경희\n",
    "* 작성일자 : '19.03.13"
   ]
  },
  {
   "cell_type": "code",
   "execution_count": 1,
   "metadata": {
    "slideshow": {
     "slide_type": "slide"
    }
   },
   "outputs": [
    {
     "data": {
      "text/plain": [
       "               _                           \n",
       "platform       x86_64-w64-mingw32          \n",
       "arch           x86_64                      \n",
       "os             mingw32                     \n",
       "system         x86_64, mingw32             \n",
       "status                                     \n",
       "major          3                           \n",
       "minor          5.2                         \n",
       "year           2018                        \n",
       "month          12                          \n",
       "day            20                          \n",
       "svn rev        75870                       \n",
       "language       R                           \n",
       "version.string R version 3.5.2 (2018-12-20)\n",
       "nickname       Eggshell Igloo              "
      ]
     },
     "metadata": {},
     "output_type": "display_data"
    }
   ],
   "source": [
    "# R 버전 확인하기\n",
    "version"
   ]
  },
  {
   "cell_type": "code",
   "execution_count": 2,
   "metadata": {
    "slideshow": {
     "slide_type": "slide"
    }
   },
   "outputs": [
    {
     "name": "stderr",
     "output_type": "stream",
     "text": [
      "\n",
      "Attaching package: 'dplyr'\n",
      "\n",
      "The following objects are masked from 'package:stats':\n",
      "\n",
      "    filter, lag\n",
      "\n",
      "The following objects are masked from 'package:base':\n",
      "\n",
      "    intersect, setdiff, setequal, union\n",
      "\n"
     ]
    }
   ],
   "source": [
    "# 필요한 라이브러리 불러오기\n",
    "# install.packages(c(\"DBI\", \"RMySQL\", \"dplyr\", \"readxl\"))\n",
    "library(DBI) # SQL 쿼리 관련 라이브러리\n",
    "library(RMySQL) # MySQL과 R을 연결하는 라이브러리\n",
    "library(dplyr) # 데이터 처리를 위한 라이브러리\n",
    "library(readxl) # Excel 데이터를 불러오기 위한 라이브러리"
   ]
  },
  {
   "cell_type": "code",
   "execution_count": 3,
   "metadata": {
    "slideshow": {
     "slide_type": "slide"
    }
   },
   "outputs": [
    {
     "data": {
      "text/html": [
       "<ol class=list-inline>\n",
       "\t<li>'.GlobalEnv'</li>\n",
       "\t<li>'package:readxl'</li>\n",
       "\t<li>'package:dplyr'</li>\n",
       "\t<li>'package:RMySQL'</li>\n",
       "\t<li>'package:DBI'</li>\n",
       "\t<li>'jupyter:irkernel'</li>\n",
       "\t<li>'package:stats'</li>\n",
       "\t<li>'package:graphics'</li>\n",
       "\t<li>'package:grDevices'</li>\n",
       "\t<li>'package:utils'</li>\n",
       "\t<li>'package:datasets'</li>\n",
       "\t<li>'package:methods'</li>\n",
       "\t<li>'Autoloads'</li>\n",
       "\t<li>'package:base'</li>\n",
       "</ol>\n"
      ],
      "text/latex": [
       "\\begin{enumerate*}\n",
       "\\item '.GlobalEnv'\n",
       "\\item 'package:readxl'\n",
       "\\item 'package:dplyr'\n",
       "\\item 'package:RMySQL'\n",
       "\\item 'package:DBI'\n",
       "\\item 'jupyter:irkernel'\n",
       "\\item 'package:stats'\n",
       "\\item 'package:graphics'\n",
       "\\item 'package:grDevices'\n",
       "\\item 'package:utils'\n",
       "\\item 'package:datasets'\n",
       "\\item 'package:methods'\n",
       "\\item 'Autoloads'\n",
       "\\item 'package:base'\n",
       "\\end{enumerate*}\n"
      ],
      "text/markdown": [
       "1. '.GlobalEnv'\n",
       "2. 'package:readxl'\n",
       "3. 'package:dplyr'\n",
       "4. 'package:RMySQL'\n",
       "5. 'package:DBI'\n",
       "6. 'jupyter:irkernel'\n",
       "7. 'package:stats'\n",
       "8. 'package:graphics'\n",
       "9. 'package:grDevices'\n",
       "10. 'package:utils'\n",
       "11. 'package:datasets'\n",
       "12. 'package:methods'\n",
       "13. 'Autoloads'\n",
       "14. 'package:base'\n",
       "\n",
       "\n"
      ],
      "text/plain": [
       " [1] \".GlobalEnv\"        \"package:readxl\"    \"package:dplyr\"    \n",
       " [4] \"package:RMySQL\"    \"package:DBI\"       \"jupyter:irkernel\" \n",
       " [7] \"package:stats\"     \"package:graphics\"  \"package:grDevices\"\n",
       "[10] \"package:utils\"     \"package:datasets\"  \"package:methods\"  \n",
       "[13] \"Autoloads\"         \"package:base\"     "
      ]
     },
     "metadata": {},
     "output_type": "display_data"
    }
   ],
   "source": [
    "# 라이브러리들이 로딩되었는지 확인\n",
    "search()"
   ]
  },
  {
   "cell_type": "code",
   "execution_count": 4,
   "metadata": {
    "slideshow": {
     "slide_type": "slide"
    }
   },
   "outputs": [
    {
     "data": {
      "text/plain": [
       "<MySQLConnection:0,0>"
      ]
     },
     "metadata": {},
     "output_type": "display_data"
    }
   ],
   "source": [
    "# 계정 연결하기\n",
    "con <- dbConnect(MySQL(), user=\"movie\", password=\"moviegoer\", \n",
    "                 host=\"localhost\", port=13306); con"
   ]
  },
  {
   "cell_type": "code",
   "execution_count": 5,
   "metadata": {
    "slideshow": {
     "slide_type": "slide"
    }
   },
   "outputs": [
    {
     "data": {
      "text/html": [],
      "text/latex": [],
      "text/markdown": [],
      "text/plain": [
       "<0 x 0 matrix>"
      ]
     },
     "metadata": {},
     "output_type": "display_data"
    }
   ],
   "source": [
    "# Ddatabase Schema 생성\n",
    "dbGetQuery(con, \"create database if not exists movie default character set euckr\")"
   ]
  },
  {
   "cell_type": "code",
   "execution_count": 6,
   "metadata": {},
   "outputs": [
    {
     "data": {
      "text/html": [],
      "text/latex": [],
      "text/markdown": [],
      "text/plain": [
       "<0 x 0 matrix>"
      ]
     },
     "metadata": {},
     "output_type": "display_data"
    }
   ],
   "source": [
    "# DB Schema 선택\n",
    "dbGetQuery(con, \"use movie\")"
   ]
  },
  {
   "cell_type": "code",
   "execution_count": 7,
   "metadata": {
    "slideshow": {
     "slide_type": "slide"
    }
   },
   "outputs": [
    {
     "name": "stderr",
     "output_type": "stream",
     "text": [
      "Warning message in read_fun(path = enc2native(normalizePath(path)), sheet_i = sheet, :\n",
      "\"Coercing text to numeric in B1016 / R1016C2: '107070'\"Warning message in read_fun(path = enc2native(normalizePath(path)), sheet_i = sheet, :\n",
      "\"Coercing text to numeric in B1020 / R1020C2: '84936'\"Warning message in read_fun(path = enc2native(normalizePath(path)), sheet_i = sheet, :\n",
      "\"Coercing text to numeric in C10277 / R10277C3: '107070'\"Warning message in read_fun(path = enc2native(normalizePath(path)), sheet_i = sheet, :\n",
      "\"Coercing text to numeric in C10345 / R10345C3: '107070'\"Warning message in read_fun(path = enc2native(normalizePath(path)), sheet_i = sheet, :\n",
      "\"Coercing text to numeric in C10417 / R10417C3: '107070'\"Warning message in read_fun(path = enc2native(normalizePath(path)), sheet_i = sheet, :\n",
      "\"Coercing text to numeric in C10494 / R10494C3: '107070'\"Warning message in read_fun(path = enc2native(normalizePath(path)), sheet_i = sheet, :\n",
      "\"Coercing text to numeric in C10562 / R10562C3: '107070'\"Warning message in read_fun(path = enc2native(normalizePath(path)), sheet_i = sheet, :\n",
      "\"Coercing text to numeric in C10583 / R10583C3: '84936'\"Warning message in read_fun(path = enc2native(normalizePath(path)), sheet_i = sheet, :\n",
      "\"Coercing text to numeric in C10763 / R10763C3: '107070'\"Warning message in read_fun(path = enc2native(normalizePath(path)), sheet_i = sheet, :\n",
      "\"Coercing text to numeric in C10824 / R10824C3: '107070'\"Warning message in read_fun(path = enc2native(normalizePath(path)), sheet_i = sheet, :\n",
      "\"Coercing text to numeric in C10882 / R10882C3: '107070'\"Warning message in read_fun(path = enc2native(normalizePath(path)), sheet_i = sheet, :\n",
      "\"Coercing text to numeric in C10941 / R10941C3: '107070'\"Warning message in read_fun(path = enc2native(normalizePath(path)), sheet_i = sheet, :\n",
      "\"Coercing text to numeric in C10996 / R10996C3: '107070'\"Warning message in read_fun(path = enc2native(normalizePath(path)), sheet_i = sheet, :\n",
      "\"Coercing text to numeric in C11062 / R11062C3: '107070'\"Warning message in read_fun(path = enc2native(normalizePath(path)), sheet_i = sheet, :\n",
      "\"Coercing text to numeric in C11126 / R11126C3: '107070'\"Warning message in read_fun(path = enc2native(normalizePath(path)), sheet_i = sheet, :\n",
      "\"Coercing text to numeric in C11173 / R11173C3: '107070'\"Warning message in read_fun(path = enc2native(normalizePath(path)), sheet_i = sheet, :\n",
      "\"Coercing text to numeric in C11261 / R11261C3: '107070'\"Warning message in read_fun(path = enc2native(normalizePath(path)), sheet_i = sheet, :\n",
      "\"Coercing text to numeric in C11345 / R11345C3: '107070'\"Warning message in read_fun(path = enc2native(normalizePath(path)), sheet_i = sheet, :\n",
      "\"Coercing text to numeric in C11391 / R11391C3: '107070'\"Warning message in read_fun(path = enc2native(normalizePath(path)), sheet_i = sheet, :\n",
      "\"Coercing text to numeric in C11445 / R11445C3: '107070'\""
     ]
    }
   ],
   "source": [
    "# excel 파일 불러오기\n",
    "movie_total <- read_excel(\"./data/Movie_data/1. 활용 DataSet_ 영화정보(2012.1~2013.10).xlsx\")\n",
    "movie_day_2012 <- read_excel(\"./data/Movie_data/2-1. 활용 DataSet_ 일별 박스 오피스(2012).xlsx\")\n",
    "movie_day_2013 <- read_excel(\"./data/Movie_data/2-2. 활용 DataSet_ 일별 박스 오피스(2013).xlsx\")\n",
    "movie_weather <- read_excel(\"./data/Movie_data/3. 활용 DataSet_ 일자별 날씨.xlsx\")\n",
    "movie_news <- read_excel(\"./data/Movie_data/4. 활용 DataSet_ 뉴스 건수.xlsx\")\n",
    "movie_reply <- read_excel(\"./data/Movie_data/5. 활용 DataSet_ 주별 댓글수.xlsx\")"
   ]
  },
  {
   "cell_type": "code",
   "execution_count": 8,
   "metadata": {
    "slideshow": {
     "slide_type": "slide"
    }
   },
   "outputs": [
    {
     "name": "stdout",
     "output_type": "stream",
     "text": [
      "Classes 'tbl_df', 'tbl' and 'data.frame':\t1022 obs. of  20 variables:\n",
      " $ 순번        : num  1 2 3 4 5 6 7 8 9 10 ...\n",
      " $ Code        : num  78726 83893 72363 88253 72054 ...\n",
      " $ 영화명      : chr  \"도둑들\" \"광해, 왕이된남자\" \"어벤져스\" \"늑대소년\" ...\n",
      " $ 감독        : chr  \"최동훈\" \"추창민\" \"조스웨던\" \"조성희\" ...\n",
      " $ 제작사      : chr  \"(주)케이퍼필름\" \"리얼라이즈픽쳐스(주),씨제이이앤엠주식회사\" NA \"(주)영화사비단길\" ...\n",
      " $ 수입사      : chr  NA NA \"한국소니픽쳐스릴리징브에나비스타영화㈜\" NA ...\n",
      " $ 배급사      : chr  \"쇼박스㈜미디어플렉스\" \"씨제이이앤엠주식회사\" \"한국소니픽쳐스릴리징브에나비스타영화㈜\" \"씨제이이앤엠주식회사\" ...\n",
      " $ 개봉일      : chr  \"2012-07-25\" \"2012-09-13\" \"2012-04-26\" \"2012-10-31\" ...\n",
      " $ 영화유형    : chr  \"개봉영화\" \"개봉영화\" \"개봉영화\" \"개봉영화\" ...\n",
      " $ 영화형태    : chr  \"장편\" \"장편\" \"장편\" \"장편\" ...\n",
      " $ 국적        : chr  \"한국\" \"한국\" \"미국\" \"한국\" ...\n",
      " $ 전국스크린수: num  1072 810 967 706 1210 ...\n",
      " $ 전국매출액  : chr  \"93664808500\" \"88899448769\" \"59557853478\" \"46590107000\" ...\n",
      " $ 전국관객수  : num  12983178 12319390 7074867 6654390 6396528 ...\n",
      " $ 서울매출액  : chr  \"26089426500\" \"25192804727\" \"19280107897\" \"12336313500\" ...\n",
      " $ 서울관객수  : num  3468906 3355700 2147619 1677173 2057529 ...\n",
      " $ 장르        : chr  \"액션,범죄\" \"사극,드라마\" \"액션,SF\" \"멜로/로맨스,드라마,판타지\" ...\n",
      " $ 관람등급    : chr  \"15세이상관람가\" \"15세이상관람가\" \"12세이상관람가\" \"15세이상관람가\" ...\n",
      " $ 시놉시스    : chr  \"10인의도둑, 1개의다이아몬드그들이움직이기시작했다!한팀으로활동중인한국의도둑뽀빠이와예니콜, 씹던껌, 잠파노. 미\"| __truncated__ \"역사에기록되지않은또한명의광해왕위를둘러싼권력다툼과붕당정치로혼란이극에달한광해군 8년. 자신의목숨을노리는자들\"| __truncated__ \"ASSEMBLE! 최강의슈퍼히어로들이모였다!지구의운명을건거대한전쟁이시작된다!지구의안보가위협당하는위기의상황에서슈\"| __truncated__ \"체온 46도, 혈액형판독불가… 세상에없어야할위험한존재늑대소년, 운명적사랑에빠지다!요양차가족들과한적한마을로이사\"| __truncated__ ...\n",
      " $ 상영시간    : chr  \"135분\" \"131분\" \"142분\" \"125분\" ...\n"
     ]
    }
   ],
   "source": [
    "# 영화 정보 파일 확인\n",
    "str(movie_total)"
   ]
  },
  {
   "cell_type": "code",
   "execution_count": 9,
   "metadata": {
    "slideshow": {
     "slide_type": "slide"
    }
   },
   "outputs": [
    {
     "name": "stdout",
     "output_type": "stream",
     "text": [
      "Classes 'tbl_df', 'tbl' and 'data.frame':\t1022 obs. of  20 variables:\n",
      " $ idx                  : num  1 2 3 4 5 6 7 8 9 10 ...\n",
      " $ code                 : num  78726 83893 72363 88253 72054 ...\n",
      " $ m_name               : chr  \"도둑들\" \"광해, 왕이된남자\" \"어벤져스\" \"늑대소년\" ...\n",
      " $ director             : chr  \"최동훈\" \"추창민\" \"조스웨던\" \"조성희\" ...\n",
      " $ productor            : chr  \"(주)케이퍼필름\" \"리얼라이즈픽쳐스(주),씨제이이앤엠주식회사\" NA \"(주)영화사비단길\" ...\n",
      " $ incomer              : chr  NA NA \"한국소니픽쳐스릴리징브에나비스타영화㈜\" NA ...\n",
      " $ distributor          : chr  \"쇼박스㈜미디어플렉스\" \"씨제이이앤엠주식회사\" \"한국소니픽쳐스릴리징브에나비스타영화㈜\" \"씨제이이앤엠주식회사\" ...\n",
      " $ open                 : chr  \"2012-07-25\" \"2012-09-13\" \"2012-04-26\" \"2012-10-31\" ...\n",
      " $ type1                : chr  \"개봉영화\" \"개봉영화\" \"개봉영화\" \"개봉영화\" ...\n",
      " $ type2                : chr  \"장편\" \"장편\" \"장편\" \"장편\" ...\n",
      " $ nation               : chr  \"한국\" \"한국\" \"미국\" \"한국\" ...\n",
      " $ the_number_of_screens: num  1072 810 967 706 1210 ...\n",
      " $ nation_income        : chr  \"93664808500\" \"88899448769\" \"59557853478\" \"46590107000\" ...\n",
      " $ nation_audiences     : num  12983178 12319390 7074867 6654390 6396528 ...\n",
      " $ seoul_income         : chr  \"26089426500\" \"25192804727\" \"19280107897\" \"12336313500\" ...\n",
      " $ seoul_audiences      : num  3468906 3355700 2147619 1677173 2057529 ...\n",
      " $ style                : chr  \"액션,범죄\" \"사극,드라마\" \"액션,SF\" \"멜로/로맨스,드라마,판타지\" ...\n",
      " $ level                : chr  \"15세이상관람가\" \"15세이상관람가\" \"12세이상관람가\" \"15세이상관람가\" ...\n",
      " $ story                : chr  \"10인의도둑, 1개의다이아몬드그들이움직이기시작했다!한팀으로활동중인한국의도둑뽀빠이와예니콜, 씹던껌, 잠파노. 미\"| __truncated__ \"역사에기록되지않은또한명의광해왕위를둘러싼권력다툼과붕당정치로혼란이극에달한광해군 8년. 자신의목숨을노리는자들\"| __truncated__ \"ASSEMBLE! 최강의슈퍼히어로들이모였다!지구의운명을건거대한전쟁이시작된다!지구의안보가위협당하는위기의상황에서슈\"| __truncated__ \"체온 46도, 혈액형판독불가… 세상에없어야할위험한존재늑대소년, 운명적사랑에빠지다!요양차가족들과한적한마을로이사\"| __truncated__ ...\n",
      " $ running_time         : chr  \"135분\" \"131분\" \"142분\" \"125분\" ...\n"
     ]
    }
   ],
   "source": [
    "# 변수명 바꾸기\n",
    "names(movie_total) <- c(\"idx\", \"code\", \"m_name\", \"director\", \"productor\", \"incomer\", \"distributor\", \"open\", \"type1\", \"type2\", \n",
    "                        \"nation\", \"the_number_of_screens\", \"nation_income\", \"nation_audiences\",\n",
    "                       \"seoul_income\", \"seoul_audiences\", \"style\", \"level\", \"story\", \"running_time\")\n",
    "str(movie_total)"
   ]
  },
  {
   "cell_type": "code",
   "execution_count": 10,
   "metadata": {
    "slideshow": {
     "slide_type": "slide"
    }
   },
   "outputs": [
    {
     "name": "stdout",
     "output_type": "stream",
     "text": [
      "Classes 'tbl_df', 'tbl' and 'data.frame':\t18815 obs. of  25 variables:\n",
      " $ rank       : num  2 7 14 16 21 31 50 2 7 13 ...\n",
      " $ datecode   : chr  \"84899-20120107\" \"82253-20120107\" \"90388-20120107\" \"78569-20120107\" ...\n",
      " $ code       : num  84899 82253 90388 78569 53746 ...\n",
      " $ m_name     : chr  \"원더풀 라디오\" \"다크아워\" \"코알라 키드 : 영웅의 탄생\" \"치코와 리타\" ...\n",
      " $ open       : POSIXct, format: \"2012-01-05\" \"2012-01-05\" ...\n",
      " $ s_price    : num  1.09e+09 3.25e+08 2.02e+07 1.09e+07 2.08e+06 ...\n",
      " $ date       : POSIXct, format: \"2012-01-07\" \"2012-01-07\" ...\n",
      " $ s_percent  : num  0.173 0.052 0.003 0.002 0 0 0 0.18 0.062 0.006 ...\n",
      " $ s_increment: num  5.90e+08 1.55e+08 1.54e+07 6.16e+06 1.13e+06 ...\n",
      " $ i_percent  : num  1.2 0.9 3.2 1.3 1.2 4 0.1 0.2 -0.1 1 ...\n",
      " $ s_sum      : num  2.08e+09 6.75e+08 3.44e+07 2.14e+07 3.84e+06 ...\n",
      " $ people     : num  144597 39040 2452 1303 241 ...\n",
      " $ p_increment: num  78970 18742 1611 735 124 ...\n",
      " $ p_percent  : num  1.2 0.9 1.9 1.3 1.1 3.9 0.1 0.1 -0.1 0.8 ...\n",
      " $ p_sum      : num  280018 81663 4836 2609 465 ...\n",
      " $ screen     : num  474 324 22 15 6 1 1 418 316 9 ...\n",
      " $ count      : num  2264 1340 34 39 7 ...\n",
      " $ country_1  : chr  \"한국\" \"미국\" \"한국\" \"스페인\" ...\n",
      " $ country_2  : chr  \"한국\" \"미국\" \"한국,미국\" \"스페인,영국\" ...\n",
      " $ company    : chr  \"(주)영화사아이비젼,(주)기안컬처테인먼트\" NA \"㈜디지아트프로덕션,더 애니메이션 픽쳐 컴퍼니\" NA ...\n",
      " $ distributor: chr  \"쇼박스㈜미디어플렉스\" \"이십세기폭스코리아(주)\" \"롯데쇼핑㈜롯데엔터테인먼트\" \"찬란\" ...\n",
      " $ level      : chr  \"15세이상관람가\" \"12세이상관람가\" \"전체관람가\" \"15세이상관람가\" ...\n",
      " $ type       : chr  \"드라마,멜로/로맨스\" \"SF,액션\" \"애니메이션\" \"애니메이션,멜로/로맨스\" ...\n",
      " $ director   : chr  \"권칠인\" \"크리스 고락\" \"이경호\" \"페르난도 트루에바,하비에르 마리스칼,토노 에란도\" ...\n",
      " $ actor      : chr  \"이민정,이정진,이광수,서영\" \"에밀 허쉬,올리비아 썰비\" \"태민,써니,윤다훈,최정현\" \"에만 소르 오냐,리마라 메니시스\" ...\n"
     ]
    }
   ],
   "source": [
    "# 2012년 일별 박스오피스 확인\n",
    "str(movie_day_2012)"
   ]
  },
  {
   "cell_type": "code",
   "execution_count": 11,
   "metadata": {
    "slideshow": {
     "slide_type": "slide"
    }
   },
   "outputs": [
    {
     "name": "stdout",
     "output_type": "stream",
     "text": [
      "Classes 'tbl_df', 'tbl' and 'data.frame':\t12687 obs. of  25 variables:\n",
      " $ rank       : num  1 2 4 5 6 7 8 9 10 11 ...\n",
      " $ datecode   : chr  \"83250-20130107\" \"89755-20130107\" \"91045-20130107\" \"87307-20130107\" ...\n",
      " $ code       : num  83250 89755 91045 87307 68073 ...\n",
      " $ m_name     : chr  \"타워\" \"레미제라블\" \"반창꼬\" \"주먹왕 랄프\" ...\n",
      " $ open       : POSIXct, format: \"2012-12-25\" \"2012-12-19\" ...\n",
      " $ s_price    : num  8.08e+08 5.21e+08 2.55e+08 7.12e+07 7.94e+07 ...\n",
      " $ date       : POSIXct, format: \"2013-01-07\" \"2013-01-07\" ...\n",
      " $ s_percent  : num  0.331 0.213 0.105 0.029 0.033 ...\n",
      " $ s_increment: num  -1.55e+09 -9.63e+08 -4.39e+08 -1.98e+08 -1.52e+08 ...\n",
      " $ i_percent  : num  -0.7 -0.6 -0.6 -0.7 -0.7 -0.7 -0.7 -0.7 -0.5 -0.7 ...\n",
      " $ s_sum      : num  2.67e+10 3.14e+10 1.64e+10 5.87e+09 2.32e+10 ...\n",
      " $ people     : num  114309 74536 36225 10474 10197 ...\n",
      " $ p_increment: num  -204802 -125045 -56501 -26440 -18193 ...\n",
      " $ p_percent  : num  -0.6 -0.6 -0.6 -0.7 -0.6 -0.7 -0.6 -0.7 -0.4 -0.7 ...\n",
      " $ p_sum      : num  3654013 4283007 2258037 812598 2786190 ...\n",
      " $ screen     : num  627 565 360 261 260 204 207 187 67 124 ...\n",
      " $ count      : num  3080 2266 1632 473 682 ...\n",
      " $ country_1  : chr  \"한국\" \"미국\" \"한국\" \"미국\" ...\n",
      " $ country_2  : chr  \"한국\" \"미국\" \"한국\" \"미국\" ...\n",
      " $ company    : chr  \"씨제이이앤엠 주식회사,(주)더타워픽쳐스\" NA \"(주)영화사오름\" NA ...\n",
      " $ distributor: chr  \"씨제이이앤엠 주식회사\" \"유니버설픽쳐스인터내셔널 코리아(유)\" \"(주)넥스트엔터테인먼트월드(NEW)\" \"소니픽쳐스릴리징월트디즈니스튜디오스코리아(주)\" ...\n",
      " $ level      : chr  \"12세이상관람가\" \"12세이상관람가\" \"15세이상관람가\" \"전체관람가\" ...\n",
      " $ type       : chr  \"드라마\" \"드라마\" \"멜로/로맨스\" \"애니메이션\" ...\n",
      " $ director   : chr  \"김지훈\" \"톰 후퍼\" \"정기훈\" \"리치 무어\" ...\n",
      " $ actor      : chr  \"설경구,손예진,김상경,김인권,도지한,안성기,이한위,김성오,송재호,차인표,박철민,조민아,권현상,박정학\" \"휴 잭맨,러셀 크로우,앤 해서웨이,아만다 사이프리드,헬레나 본햄 카터\" \"고수,한효주,마동석,김성오,쥬니,진서연,장원종\" \"존 C. 레일리,잭 맥브레이어,제인 린치\" ...\n"
     ]
    }
   ],
   "source": [
    "# 2013년 일별 박스오피스 확인\n",
    "str(movie_day_2013)"
   ]
  },
  {
   "cell_type": "code",
   "execution_count": 12,
   "metadata": {
    "slideshow": {
     "slide_type": "slide"
    }
   },
   "outputs": [
    {
     "name": "stdout",
     "output_type": "stream",
     "text": [
      "Classes 'tbl_df', 'tbl' and 'data.frame':\t684 obs. of  3 variables:\n",
      " $ DateKey: POSIXct, format: \"2012-01-01\" \"2012-01-02\" ...\n",
      " $ 강수량 : num  0 0 0.4 0 0 0 0 0 0 0 ...\n",
      " $ 요일   : chr  \"일요일\" \"월요일\" \"화요일\" \"수요일\" ...\n"
     ]
    }
   ],
   "source": [
    "# 일자별 날씨 확인\n",
    "str(movie_weather)"
   ]
  },
  {
   "cell_type": "code",
   "execution_count": 13,
   "metadata": {
    "slideshow": {
     "slide_type": "slide"
    }
   },
   "outputs": [
    {
     "name": "stdout",
     "output_type": "stream",
     "text": [
      "Classes 'tbl_df', 'tbl' and 'data.frame':\t684 obs. of  3 variables:\n",
      " $ datekey : chr  \"2012-01-01\" \"2012-01-02\" \"2012-01-03\" \"2012-01-04\" ...\n",
      " $ rainfall: num  0 0 0.4 0 0 0 0 0 0 0 ...\n",
      " $ day     : chr  \"일요일\" \"월요일\" \"화요일\" \"수요일\" ...\n"
     ]
    }
   ],
   "source": [
    "# 변수명 바꾸기 및 변수 속성 바꾸기\n",
    "names(movie_weather) <- c(\"datekey\", \"rainfall\", \"day\")\n",
    "movie_weather$datekey <- as.character(movie_weather$datekey)\n",
    "str(movie_weather)"
   ]
  },
  {
   "cell_type": "code",
   "execution_count": 14,
   "metadata": {
    "slideshow": {
     "slide_type": "slide"
    }
   },
   "outputs": [
    {
     "name": "stdout",
     "output_type": "stream",
     "text": [
      "Classes 'tbl_df', 'tbl' and 'data.frame':\t865 obs. of  3 variables:\n",
      " $ CODE      : chr  \"116104\" \"114791\" \"111118\" \"111008\" ...\n",
      " $ 영화명    : chr  \"멋진 녀석들\" \"사티아그라하\" \"스트리퍼 VS 늑대인간\" \"스티븐 시걸의 리벤지\" ...\n",
      " $ 뉴스(건수): num  5 4 0 1 26 0 0 0 0 0 ...\n"
     ]
    }
   ],
   "source": [
    "# 뉴스 확인\n",
    "str(movie_news)"
   ]
  },
  {
   "cell_type": "code",
   "execution_count": 15,
   "metadata": {
    "slideshow": {
     "slide_type": "slide"
    }
   },
   "outputs": [
    {
     "name": "stdout",
     "output_type": "stream",
     "text": [
      "Classes 'tbl_df', 'tbl' and 'data.frame':\t865 obs. of  3 variables:\n",
      " $ code      : chr  \"116104\" \"114791\" \"111118\" \"111008\" ...\n",
      " $ m_name    : chr  \"멋진 녀석들\" \"사티아그라하\" \"스트리퍼 VS 늑대인간\" \"스티븐 시걸의 리벤지\" ...\n",
      " $ news_count: num  5 4 0 1 26 0 0 0 0 0 ...\n"
     ]
    }
   ],
   "source": [
    "# 변수명 바꾸기\n",
    "names(movie_news) <- c(\"code\", \"m_name\", \"news_count\")\n",
    "str(movie_news)"
   ]
  },
  {
   "cell_type": "code",
   "execution_count": 16,
   "metadata": {
    "slideshow": {
     "slide_type": "slide"
    }
   },
   "outputs": [
    {
     "name": "stdout",
     "output_type": "stream",
     "text": [
      "Classes 'tbl_df', 'tbl' and 'data.frame':\t751 obs. of  5 variables:\n",
      " $ m_name(영화명): chr  \"007 스카이폴\" \"10 아이템오어레스\" \"1999, 면회\" \"19곰테드\" ...\n",
      " $ 1주차         : num  75 1 0 20 102 1 3 3 1 38 ...\n",
      " $ 2주차         : num  47 0 0 31 135 6 3 4 1 79 ...\n",
      " $ 3주차         : num  23 0 2 19 1208 ...\n",
      " $ 4주차         : num  28 0 0 10 13216 ...\n"
     ]
    }
   ],
   "source": [
    "# 주별 댓글수 확인\n",
    "str(movie_reply)"
   ]
  },
  {
   "cell_type": "code",
   "execution_count": 17,
   "metadata": {
    "slideshow": {
     "slide_type": "slide"
    }
   },
   "outputs": [
    {
     "name": "stdout",
     "output_type": "stream",
     "text": [
      "Classes 'tbl_df', 'tbl' and 'data.frame':\t751 obs. of  5 variables:\n",
      " $ m_name     : chr  \"007 스카이폴\" \"10 아이템오어레스\" \"1999, 면회\" \"19곰테드\" ...\n",
      " $ first_week : num  75 1 0 20 102 1 3 3 1 38 ...\n",
      " $ second_week: num  47 0 0 31 135 6 3 4 1 79 ...\n",
      " $ third_week : num  23 0 2 19 1208 ...\n",
      " $ fourth_week: num  28 0 0 10 13216 ...\n"
     ]
    }
   ],
   "source": [
    "# 변수명 바꾸기\n",
    "names(movie_reply) <- c(\"m_name\", \"first_week\", \"second_week\", \"third_week\", \"fourth_week\")\n",
    "str(movie_reply)"
   ]
  },
  {
   "cell_type": "code",
   "execution_count": 18,
   "metadata": {
    "slideshow": {
     "slide_type": "slide"
    }
   },
   "outputs": [
    {
     "name": "stdout",
     "output_type": "stream",
     "text": [
      "[1] 18815    25\n",
      "[1] 12687    25\n",
      "[1] 31502    25\n"
     ]
    }
   ],
   "source": [
    "# movie_day 합치기\n",
    "movie_day <- rbind(movie_day_2012, movie_day_2013)\n",
    "print(dim(movie_day_2012))\n",
    "print(dim(movie_day_2013))\n",
    "print(dim(movie_day))"
   ]
  },
  {
   "cell_type": "code",
   "execution_count": 19,
   "metadata": {
    "slideshow": {
     "slide_type": "slide"
    }
   },
   "outputs": [
    {
     "name": "stdout",
     "output_type": "stream",
     "text": [
      "[1] 0\n",
      "[1] 0\n"
     ]
    }
   ],
   "source": [
    "# movie_day에서 code null값 확인\n",
    "print(sum(is.null(movie_day$code)))\n",
    "print(sum(is.na(movie_day$code)))"
   ]
  },
  {
   "cell_type": "code",
   "execution_count": 20,
   "metadata": {
    "slideshow": {
     "slide_type": "slide"
    }
   },
   "outputs": [
    {
     "name": "stdout",
     "output_type": "stream",
     "text": [
      "Classes 'tbl_df', 'tbl' and 'data.frame':\t31502 obs. of  25 variables:\n",
      " $ rank       : num  2 7 14 16 21 31 50 2 7 13 ...\n",
      " $ datecode   : chr  \"84899-20120107\" \"82253-20120107\" \"90388-20120107\" \"78569-20120107\" ...\n",
      " $ code       : chr  \"84899\" \"82253\" \"90388\" \"78569\" ...\n",
      " $ m_name     : chr  \"원더풀 라디오\" \"다크아워\" \"코알라 키드 : 영웅의 탄생\" \"치코와 리타\" ...\n",
      " $ open       : POSIXct, format: \"2012-01-05\" \"2012-01-05\" ...\n",
      " $ s_price    : num  1.09e+09 3.25e+08 2.02e+07 1.09e+07 2.08e+06 ...\n",
      " $ date       : POSIXct, format: \"2012-01-07\" \"2012-01-07\" ...\n",
      " $ s_percent  : num  0.173 0.052 0.003 0.002 0 0 0 0.18 0.062 0.006 ...\n",
      " $ s_increment: num  5.90e+08 1.55e+08 1.54e+07 6.16e+06 1.13e+06 ...\n",
      " $ i_percent  : num  1.2 0.9 3.2 1.3 1.2 4 0.1 0.2 -0.1 1 ...\n",
      " $ s_sum      : num  2.08e+09 6.75e+08 3.44e+07 2.14e+07 3.84e+06 ...\n",
      " $ people     : num  144597 39040 2452 1303 241 ...\n",
      " $ p_increment: num  78970 18742 1611 735 124 ...\n",
      " $ p_percent  : num  1.2 0.9 1.9 1.3 1.1 3.9 0.1 0.1 -0.1 0.8 ...\n",
      " $ p_sum      : num  280018 81663 4836 2609 465 ...\n",
      " $ screen     : num  474 324 22 15 6 1 1 418 316 9 ...\n",
      " $ count      : num  2264 1340 34 39 7 ...\n",
      " $ country_1  : chr  \"한국\" \"미국\" \"한국\" \"스페인\" ...\n",
      " $ country_2  : chr  \"한국\" \"미국\" \"한국,미국\" \"스페인,영국\" ...\n",
      " $ company    : chr  \"(주)영화사아이비젼,(주)기안컬처테인먼트\" NA \"㈜디지아트프로덕션,더 애니메이션 픽쳐 컴퍼니\" NA ...\n",
      " $ distributor: chr  \"쇼박스㈜미디어플렉스\" \"이십세기폭스코리아(주)\" \"롯데쇼핑㈜롯데엔터테인먼트\" \"찬란\" ...\n",
      " $ level      : chr  \"15세이상관람가\" \"12세이상관람가\" \"전체관람가\" \"15세이상관람가\" ...\n",
      " $ type       : chr  \"드라마,멜로/로맨스\" \"SF,액션\" \"애니메이션\" \"애니메이션,멜로/로맨스\" ...\n",
      " $ director   : chr  \"권칠인\" \"크리스 고락\" \"이경호\" \"페르난도 트루에바,하비에르 마리스칼,토노 에란도\" ...\n",
      " $ actor      : chr  \"이민정,이정진,이광수,서영\" \"에밀 허쉬,올리비아 썰비\" \"태민,써니,윤다훈,최정현\" \"에만 소르 오냐,리마라 메니시스\" ...\n"
     ]
    }
   ],
   "source": [
    "# movie_day 변수의 datekey와 code의 형식을 character로 변경\n",
    "movie_day$code <- as.character(movie_day$code)\n",
    "movie_day$datecode <- as.character(movie_day$datecode)\n",
    "str(movie_day)"
   ]
  },
  {
   "cell_type": "code",
   "execution_count": 21,
   "metadata": {
    "slideshow": {
     "slide_type": "slide"
    }
   },
   "outputs": [
    {
     "name": "stdout",
     "output_type": "stream",
     "text": [
      "[1] 0\n",
      "[1] 157\n"
     ]
    }
   ],
   "source": [
    "# movie_total에서 code null값 확인\n",
    "print(sum(is.null(movie_total$code)))\n",
    "print(sum(is.na(movie_total$code)))"
   ]
  },
  {
   "cell_type": "code",
   "execution_count": 22,
   "metadata": {
    "slideshow": {
     "slide_type": "slide"
    }
   },
   "outputs": [
    {
     "name": "stdout",
     "output_type": "stream",
     "text": [
      "Classes 'tbl_df', 'tbl' and 'data.frame':\t865 obs. of  20 variables:\n",
      " $ idx                  : num  1 2 3 4 5 6 7 8 9 10 ...\n",
      " $ code                 : num  78726 83893 72363 88253 72054 ...\n",
      " $ m_name               : chr  \"도둑들\" \"광해, 왕이된남자\" \"어벤져스\" \"늑대소년\" ...\n",
      " $ director             : chr  \"최동훈\" \"추창민\" \"조스웨던\" \"조성희\" ...\n",
      " $ productor            : chr  \"(주)케이퍼필름\" \"리얼라이즈픽쳐스(주),씨제이이앤엠주식회사\" NA \"(주)영화사비단길\" ...\n",
      " $ incomer              : chr  NA NA \"한국소니픽쳐스릴리징브에나비스타영화㈜\" NA ...\n",
      " $ distributor          : chr  \"쇼박스㈜미디어플렉스\" \"씨제이이앤엠주식회사\" \"한국소니픽쳐스릴리징브에나비스타영화㈜\" \"씨제이이앤엠주식회사\" ...\n",
      " $ open                 : chr  \"2012-07-25\" \"2012-09-13\" \"2012-04-26\" \"2012-10-31\" ...\n",
      " $ type1                : chr  \"개봉영화\" \"개봉영화\" \"개봉영화\" \"개봉영화\" ...\n",
      " $ type2                : chr  \"장편\" \"장편\" \"장편\" \"장편\" ...\n",
      " $ nation               : chr  \"한국\" \"한국\" \"미국\" \"한국\" ...\n",
      " $ the_number_of_screens: num  1072 810 967 706 1210 ...\n",
      " $ nation_income        : chr  \"93664808500\" \"88899448769\" \"59557853478\" \"46590107000\" ...\n",
      " $ nation_audiences     : num  12983178 12319390 7074867 6654390 6396528 ...\n",
      " $ seoul_income         : chr  \"26089426500\" \"25192804727\" \"19280107897\" \"12336313500\" ...\n",
      " $ seoul_audiences      : num  3468906 3355700 2147619 1677173 2057529 ...\n",
      " $ style                : chr  \"액션,범죄\" \"사극,드라마\" \"액션,SF\" \"멜로/로맨스,드라마,판타지\" ...\n",
      " $ level                : chr  \"15세이상관람가\" \"15세이상관람가\" \"12세이상관람가\" \"15세이상관람가\" ...\n",
      " $ story                : chr  \"10인의도둑, 1개의다이아몬드그들이움직이기시작했다!한팀으로활동중인한국의도둑뽀빠이와예니콜, 씹던껌, 잠파노. 미\"| __truncated__ \"역사에기록되지않은또한명의광해왕위를둘러싼권력다툼과붕당정치로혼란이극에달한광해군 8년. 자신의목숨을노리는자들\"| __truncated__ \"ASSEMBLE! 최강의슈퍼히어로들이모였다!지구의운명을건거대한전쟁이시작된다!지구의안보가위협당하는위기의상황에서슈\"| __truncated__ \"체온 46도, 혈액형판독불가… 세상에없어야할위험한존재늑대소년, 운명적사랑에빠지다!요양차가족들과한적한마을로이사\"| __truncated__ ...\n",
      " $ running_time         : chr  \"135분\" \"131분\" \"142분\" \"125분\" ...\n"
     ]
    }
   ],
   "source": [
    "# movie_total에서 code 값이 na인 값을 제거\n",
    "movie_total <- movie_total[!is.na(movie_total$code),]\n",
    "str(movie_total)"
   ]
  },
  {
   "cell_type": "code",
   "execution_count": 23,
   "metadata": {
    "slideshow": {
     "slide_type": "slide"
    }
   },
   "outputs": [
    {
     "data": {
      "text/html": [
       "TRUE"
      ],
      "text/latex": [
       "TRUE"
      ],
      "text/markdown": [
       "TRUE"
      ],
      "text/plain": [
       "[1] TRUE"
      ]
     },
     "metadata": {},
     "output_type": "display_data"
    }
   ],
   "source": [
    "a <- dbWriteTable(con, name = \"movie_total\", value = movie_total, append = T, row.names=F)\n",
    "a"
   ]
  },
  {
   "cell_type": "code",
   "execution_count": 24,
   "metadata": {},
   "outputs": [
    {
     "data": {
      "text/html": [
       "TRUE"
      ],
      "text/latex": [
       "TRUE"
      ],
      "text/markdown": [
       "TRUE"
      ],
      "text/plain": [
       "[1] TRUE"
      ]
     },
     "metadata": {},
     "output_type": "display_data"
    }
   ],
   "source": [
    "a <- dbWriteTable(con, name = \"movie_day\", value = movie_day, append = T, row.names=F)\n",
    "a"
   ]
  },
  {
   "cell_type": "code",
   "execution_count": 25,
   "metadata": {},
   "outputs": [
    {
     "data": {
      "text/html": [
       "TRUE"
      ],
      "text/latex": [
       "TRUE"
      ],
      "text/markdown": [
       "TRUE"
      ],
      "text/plain": [
       "[1] TRUE"
      ]
     },
     "metadata": {},
     "output_type": "display_data"
    }
   ],
   "source": [
    "a <- dbWriteTable(con, name = \"movie_weather\", value = movie_weather, append = T, row.names=F)\n",
    "a"
   ]
  },
  {
   "cell_type": "code",
   "execution_count": 26,
   "metadata": {},
   "outputs": [
    {
     "data": {
      "text/html": [
       "TRUE"
      ],
      "text/latex": [
       "TRUE"
      ],
      "text/markdown": [
       "TRUE"
      ],
      "text/plain": [
       "[1] TRUE"
      ]
     },
     "metadata": {},
     "output_type": "display_data"
    }
   ],
   "source": [
    "a <- dbWriteTable(con, name = \"movie_news\", value = movie_news, append = T, row.names=F)\n",
    "a"
   ]
  },
  {
   "cell_type": "code",
   "execution_count": 27,
   "metadata": {},
   "outputs": [
    {
     "data": {
      "text/html": [
       "TRUE"
      ],
      "text/latex": [
       "TRUE"
      ],
      "text/markdown": [
       "TRUE"
      ],
      "text/plain": [
       "[1] TRUE"
      ]
     },
     "metadata": {},
     "output_type": "display_data"
    }
   ],
   "source": [
    "a <- dbWriteTable(con, name = \"movie_reply\", value = movie_reply, append = T, row.names=F)\n",
    "a"
   ]
  },
  {
   "cell_type": "code",
   "execution_count": 28,
   "metadata": {
    "slideshow": {
     "slide_type": "slide"
    }
   },
   "outputs": [
    {
     "data": {
      "text/html": [],
      "text/latex": [],
      "text/markdown": [],
      "text/plain": [
       "<0 x 0 matrix>"
      ]
     },
     "metadata": {},
     "output_type": "display_data"
    }
   ],
   "source": [
    "# FactTable 만들기\n",
    "fact_table <- \"CREATE TABLE FactTable (\n",
    "                code VARCHAR(255),\n",
    "                m_name VARCHAR(255),\n",
    "                open DATETIME,\n",
    "                s_price FLOAT,\n",
    "                datekey VARCHAR(255),\n",
    "                s_percent FLOAT,\n",
    "                s_increment FLOAT,\n",
    "                i_percent FLOAT,\n",
    "                s_sum FLOAT,\n",
    "                people FLOAT,\n",
    "                p_increment FLOAT,\n",
    "                p_percent FLOAT,\n",
    "                p_sum FLOAT,\n",
    "                screen FLOAT,\n",
    "                count FLOAT\n",
    "            )\"\n",
    "\n",
    "dbGetQuery(con, fact_table)"
   ]
  },
  {
   "cell_type": "code",
   "execution_count": 30,
   "metadata": {
    "slideshow": {
     "slide_type": "slide"
    }
   },
   "outputs": [
    {
     "data": {
      "text/html": [],
      "text/latex": [],
      "text/markdown": [],
      "text/plain": [
       "<0 x 0 matrix>"
      ]
     },
     "metadata": {},
     "output_type": "display_data"
    }
   ],
   "source": [
    "# FactTable에 movie_day 데이터 insert\n",
    "insert_movie_day_to_fact <- \"INSERT INTO FactTable\n",
    "                            SELECT code, m_name, open, s_price, date as datekey, s_percent, s_increment,\n",
    "                                    i_percent, s_sum, people, p_increment, p_percent, p_sum, screen, count\n",
    "                            FROM movie_day\"\n",
    "dbGetQuery(con, insert_movie_day_to_fact)"
   ]
  },
  {
   "cell_type": "code",
   "execution_count": 31,
   "metadata": {
    "slideshow": {
     "slide_type": "slide"
    }
   },
   "outputs": [
    {
     "data": {
      "text/html": [],
      "text/latex": [],
      "text/markdown": [],
      "text/plain": [
       "<0 x 0 matrix>"
      ]
     },
     "metadata": {},
     "output_type": "display_data"
    }
   ],
   "source": [
    "# DimMovie 만들기\n",
    "dim_movie <- \"CREATE TABLE DimMovie(\n",
    "                code VARCHAR(255),\n",
    "                m_name VARCHAR(255),\n",
    "                director VARCHAR(255),\n",
    "                productor VARCHAR(255),\n",
    "                incomer VARCHAR(255),\n",
    "                distributor VARCHAR(255),\n",
    "                open VARCHAR(255),\n",
    "                type1 VARCHAR(255),\n",
    "                type2 VARCHAR(255),\n",
    "                nation VARCHAR(255),\n",
    "                style VARCHAR(255),\n",
    "                level VARCHAR(255),\n",
    "                story TEXT\n",
    "            )\"\n",
    "dbGetQuery(con, dim_movie)"
   ]
  },
  {
   "cell_type": "code",
   "execution_count": 32,
   "metadata": {
    "slideshow": {
     "slide_type": "slide"
    }
   },
   "outputs": [
    {
     "data": {
      "text/html": [],
      "text/latex": [],
      "text/markdown": [],
      "text/plain": [
       "<0 x 0 matrix>"
      ]
     },
     "metadata": {},
     "output_type": "display_data"
    }
   ],
   "source": [
    "# DimMovie 테이블에 movie_total 데이터 insert\n",
    "insert_movie_total_to_dimmovie <- \"INSERT INTO DimMovie(\n",
    "                                    SELECT code, m_name, director, productor, incomer, distributor, open, \n",
    "                                            type1, type2, nation, style, level, story\n",
    "                                    FROM movie_total\n",
    "                                )\"\n",
    "dbGetQuery(con, insert_movie_total_to_dimmovie)"
   ]
  },
  {
   "cell_type": "code",
   "execution_count": 33,
   "metadata": {
    "slideshow": {
     "slide_type": "slide"
    }
   },
   "outputs": [
    {
     "name": "stdout",
     "output_type": "stream",
     "text": [
      "[1] 865  41\n"
     ]
    }
   ],
   "source": [
    "# 컬럼 붙이기 \n",
    "movie_total$action <- \"\"\n",
    "movie_total$history <- \"\"\n",
    "movie_total$melo <- \"\"\n",
    "movie_total$comedy <- \"\"\n",
    "movie_total$sexual <- \"\"\n",
    "movie_total$crime <- \"\"\n",
    "movie_total$horror <- \"\"\n",
    "movie_total$drama <- \"\"\n",
    "movie_total$adventure <- \"\"\n",
    "movie_total$mystery <- \"\"\n",
    "movie_total$thrill <- \"\"\n",
    "movie_total$sf <- \"\"\n",
    "movie_total$animation <- \"\"\n",
    "movie_total$fantasy <- \"\"\n",
    "movie_total$family <- \"\"\n",
    "movie_total$war <- \"\"\n",
    "movie_total$musical <- \"\"\n",
    "movie_total$daqu <- \"\"\n",
    "movie_total$play <- \"\"\n",
    "movie_total$etc <- \"\"\n",
    "movie_total$western <- \"\"\n",
    "print(dim(movie_total))"
   ]
  },
  {
   "cell_type": "code",
   "execution_count": 34,
   "metadata": {
    "slideshow": {
     "slide_type": "slide"
    }
   },
   "outputs": [],
   "source": [
    "# movie_total 테이블에 장르 구분\n",
    "for(i in 1:NROW(movie_total)) {\n",
    "  if(grepl(\"액션\", movie_total$style[i])) {\n",
    "    movie_total$action[i] <- \"1\"\n",
    "  } else {\n",
    "    movie_total$action[i] <- \"0\"\n",
    "  }\n",
    "  if(grepl(\"사극\", movie_total$style[i])) {\n",
    "    movie_total$history[i] <- \"1\"\n",
    "  } else {\n",
    "    movie_total$history[i] <- \"0\"\n",
    "  }\n",
    "  if(grepl(\"멜로\", movie_total$style[i])) {\n",
    "    movie_total$melo[i] <- \"1\"\n",
    "  } else {\n",
    "    movie_total$melo[i] <- \"0\"\n",
    "  }\n",
    "  if(grepl(\"코미디\", movie_total$style[i])) {\n",
    "    movie_total$comedy[i] <- \"1\"\n",
    "  } else {\n",
    "    movie_total$comedy[i] <- \"0\"\n",
    "  }\n",
    "  if(grepl(\"성인물\", movie_total$style[i])) {\n",
    "    movie_total$sexual[i] <- \"1\"\n",
    "  } else {\n",
    "    movie_total$sexual[i] <- \"0\"\n",
    "  }\n",
    "  if(grepl(\"범죄\", movie_total$style[i])) {\n",
    "    movie_total$crime[i] <- \"1\"\n",
    "  } else {\n",
    "    movie_total$crime[i] <- \"0\"\n",
    "  }\n",
    "  if(grepl(\"공포\", movie_total$style[i])) {\n",
    "    movie_total$horror[i] <- \"1\"\n",
    "  } else {\n",
    "    movie_total$horror[i] <- \"0\"\n",
    "  }\n",
    "  if(grepl(\"드라마\", movie_total$style[i])) {\n",
    "    movie_total$drama[i] <- \"1\"\n",
    "  } else {\n",
    "    movie_total$drama[i] <- \"0\"\n",
    "  }\n",
    "  if(grepl(\"어드벤처\", movie_total$style[i])) {\n",
    "    movie_total$adventure[i] <- \"1\"\n",
    "  } else {\n",
    "    movie_total$adventure[i] <- \"0\"\n",
    "  }\n",
    "  if(grepl(\"미스터리\", movie_total$style[i])) {\n",
    "    movie_total$mystery[i] <- \"1\"\n",
    "  } else {\n",
    "    movie_total$mystery[i] <- \"0\"\n",
    "  }\n",
    "  if(grepl(\"스릴러\", movie_total$style[i])) {\n",
    "    movie_total$thrill[i] <- \"1\"\n",
    "  } else {\n",
    "    movie_total$thrill[i] <- \"0\"\n",
    "  }\n",
    "  if(grepl(\"SF\", movie_total$style[i])) {\n",
    "    movie_total$sf[i] <- \"1\"\n",
    "  } else {\n",
    "    movie_total$sf[i] <- \"0\"\n",
    "  }\n",
    "  if(grepl(\"애니메이션\", movie_total$style[i])) {\n",
    "    movie_total$animation[i] <- \"1\"\n",
    "  } else {\n",
    "    movie_total$animation[i] <- \"0\"\n",
    "  }\n",
    "  if(grepl(\"판타지\", movie_total$style[i])) {\n",
    "    movie_total$fantasy[i] <- \"1\"\n",
    "  } else {\n",
    "    movie_total$fantasy[i] <- \"0\"\n",
    "  }\n",
    "  if(grepl(\"가족\", movie_total$style[i])) {\n",
    "    movie_total$family[i] <- \"1\"\n",
    "  } else {\n",
    "    movie_total$family[i] <- \"0\"\n",
    "  }\n",
    "  if(grepl(\"전쟁\", movie_total$style[i])) {\n",
    "    movie_total$war[i] <- \"1\"\n",
    "  } else {\n",
    "    movie_total$war[i] <- \"0\"\n",
    "  }\n",
    "  if(grepl(\"뮤지컬\", movie_total$style[i])) {\n",
    "    movie_total$musical[i] <- \"1\"\n",
    "  } else {\n",
    "    movie_total$musical[i] <- \"0\"\n",
    "  }\n",
    "  if(grepl(\"다큐\", movie_total$style[i])) {\n",
    "    movie_total$daqu[i] <- \"1\"\n",
    "  } else {\n",
    "    movie_total$daqu[i] <- \"0\"\n",
    "  }\n",
    "  if(grepl(\"공연\", movie_total$style[i])) {\n",
    "    movie_total$play[i] <- \"1\"\n",
    "  } else {\n",
    "    movie_total$play[i] <- \"0\"\n",
    "  }\n",
    "  if(grepl(\"기타\", movie_total$style[i])) {\n",
    "    movie_total$etc[i] <- \"1\"\n",
    "  } else {\n",
    "    movie_total$etc[i] <- \"0\"\n",
    "  }\n",
    "  if(grepl(\"서부극\", movie_total$style[i])) {\n",
    "    movie_total$western[i] <- \"1\"\n",
    "  } else {\n",
    "    movie_total$western[i] <- \"0\"\n",
    "  }\n",
    "  \n",
    "}"
   ]
  },
  {
   "cell_type": "code",
   "execution_count": 35,
   "metadata": {
    "slideshow": {
     "slide_type": "slide"
    }
   },
   "outputs": [
    {
     "data": {
      "text/html": [
       "<table>\n",
       "<thead><tr><th scope=col>idx</th><th scope=col>code</th><th scope=col>m_name</th><th scope=col>director</th><th scope=col>productor</th><th scope=col>incomer</th><th scope=col>distributor</th><th scope=col>open</th><th scope=col>type1</th><th scope=col>type2</th><th scope=col>...</th><th scope=col>sf</th><th scope=col>animation</th><th scope=col>fantasy</th><th scope=col>family</th><th scope=col>war</th><th scope=col>musical</th><th scope=col>daqu</th><th scope=col>play</th><th scope=col>etc</th><th scope=col>western</th></tr></thead>\n",
       "<tbody>\n",
       "\t<tr><td> 1                                       </td><td>78726                                    </td><td>도둑들                                   </td><td>최동훈                                   </td><td>(주)케이퍼필름                           </td><td>NA                                       </td><td>쇼박스㈜미디어플렉스                     </td><td>2012-07-25                               </td><td>개봉영화                                 </td><td>장편                                     </td><td>...                                      </td><td>0                                        </td><td>0                                        </td><td>0                                        </td><td>0                                        </td><td>0                                        </td><td>0                                        </td><td>0                                        </td><td>0                                        </td><td>0                                        </td><td>0                                        </td></tr>\n",
       "\t<tr><td> 2                                       </td><td>83893                                    </td><td>광해, 왕이된남자                         </td><td>추창민                                   </td><td>리얼라이즈픽쳐스(주),씨제이이앤엠주식회사</td><td>NA                                       </td><td>씨제이이앤엠주식회사                     </td><td>2012-09-13                               </td><td>개봉영화                                 </td><td>장편                                     </td><td>...                                      </td><td>0                                        </td><td>0                                        </td><td>0                                        </td><td>0                                        </td><td>0                                        </td><td>0                                        </td><td>0                                        </td><td>0                                        </td><td>0                                        </td><td>0                                        </td></tr>\n",
       "\t<tr><td> 3                                       </td><td>72363                                    </td><td>어벤져스                                 </td><td>조스웨던                                 </td><td>NA                                       </td><td>한국소니픽쳐스릴리징브에나비스타영화㈜   </td><td>한국소니픽쳐스릴리징브에나비스타영화㈜   </td><td>2012-04-26                               </td><td>개봉영화                                 </td><td>장편                                     </td><td>...                                      </td><td>1                                        </td><td>0                                        </td><td>0                                        </td><td>0                                        </td><td>0                                        </td><td>0                                        </td><td>0                                        </td><td>0                                        </td><td>0                                        </td><td>0                                        </td></tr>\n",
       "\t<tr><td> 4                                       </td><td>88253                                    </td><td>늑대소년                                 </td><td>조성희                                   </td><td>(주)영화사비단길                         </td><td>NA                                       </td><td>씨제이이앤엠주식회사                     </td><td>2012-10-31                               </td><td>개봉영화                                 </td><td>장편                                     </td><td>...                                      </td><td>0                                        </td><td>0                                        </td><td>1                                        </td><td>0                                        </td><td>0                                        </td><td>0                                        </td><td>0                                        </td><td>0                                        </td><td>0                                        </td><td>0                                        </td></tr>\n",
       "\t<tr><td> 5                                       </td><td>72054                                    </td><td>다크나이트라이즈                         </td><td>크리스토퍼놀란                           </td><td>NA                                       </td><td>워너브러더스코리아(주)                   </td><td>워너브러더스코리아(주)                   </td><td>2012-07-19                               </td><td>개봉영화                                 </td><td>장편                                     </td><td>...                                      </td><td>0                                        </td><td>0                                        </td><td>0                                        </td><td>0                                        </td><td>0                                        </td><td>0                                        </td><td>0                                        </td><td>0                                        </td><td>0                                        </td><td>0                                        </td></tr>\n",
       "\t<tr><td> 6                                       </td><td>86888                                    </td><td>바람과함께사라지다                       </td><td>김주호                                   </td><td>(주)두타연,(유)에이디사공육              </td><td>NA                                       </td><td>(주)넥스트엔터테인먼트월드(NEW)          </td><td>2012-08-08                               </td><td>개봉영화                                 </td><td>장편                                     </td><td>...                                      </td><td>0                                        </td><td>0                                        </td><td>0                                        </td><td>0                                        </td><td>0                                        </td><td>0                                        </td><td>0                                        </td><td>0                                        </td><td>0                                        </td><td>0                                        </td></tr>\n",
       "\t<tr><td> 7                                       </td><td>66823                                    </td><td>어메이징스파이더맨                       </td><td>마크웹                                   </td><td>NA                                       </td><td>한국소니픽쳐스릴리징브에나비스타영화㈜   </td><td>한국소니픽쳐스릴리징브에나비스타영화㈜   </td><td>2012-06-28                               </td><td>개봉영화                                 </td><td>장편                                     </td><td>...                                      </td><td>0                                        </td><td>0                                        </td><td>0                                        </td><td>0                                        </td><td>0                                        </td><td>0                                        </td><td>0                                        </td><td>0                                        </td><td>0                                        </td><td>0                                        </td></tr>\n",
       "\t<tr><td> 8                                       </td><td>82540                                    </td><td>범죄와의전쟁: 나쁜놈들전성시대           </td><td>윤종빈                                   </td><td>(주)팔레트픽처스,쇼박스㈜미디어플렉스    </td><td>NA                                       </td><td>쇼박스㈜미디어플렉스                     </td><td>2012-02-02                               </td><td>개봉영화                                 </td><td>장편                                     </td><td>...                                      </td><td>0                                        </td><td>0                                        </td><td>0                                        </td><td>0                                        </td><td>0                                        </td><td>0                                        </td><td>0                                        </td><td>0                                        </td><td>0                                        </td><td>0                                        </td></tr>\n",
       "\t<tr><td> 9                                       </td><td>89606                                    </td><td>내아내의모든것                           </td><td>민규동                                   </td><td>(주)수필름,영화사집                      </td><td>NA                                       </td><td>(주)넥스트엔터테인먼트월드(NEW)          </td><td>2012-05-17                               </td><td>개봉영화                                 </td><td>장편                                     </td><td>...                                      </td><td>0                                        </td><td>0                                        </td><td>0                                        </td><td>0                                        </td><td>0                                        </td><td>0                                        </td><td>0                                        </td><td>0                                        </td><td>0                                        </td><td>0                                        </td></tr>\n",
       "\t<tr><td>10                                       </td><td>88225                                    </td><td>연가시                                   </td><td>박정우                                   </td><td>(주)오죤필름                             </td><td>NA                                       </td><td>씨제이이앤엠주식회사                     </td><td>2012-07-05                               </td><td>개봉영화                                 </td><td>장편                                     </td><td>...                                      </td><td>1                                        </td><td>0                                        </td><td>0                                        </td><td>0                                        </td><td>0                                        </td><td>0                                        </td><td>0                                        </td><td>0                                        </td><td>0                                        </td><td>0                                        </td></tr>\n",
       "</tbody>\n",
       "</table>\n"
      ],
      "text/latex": [
       "\\begin{tabular}{r|lllllllllllllllllllllllllllllllllllllllll}\n",
       " idx & code & m\\_name & director & productor & incomer & distributor & open & type1 & type2 & ... & sf & animation & fantasy & family & war & musical & daqu & play & etc & western\\\\\n",
       "\\hline\n",
       "\t  1                                        & 78726                                     & 도둑들                                    & 최동훈                                    & (주)케이퍼필름                            & NA                                        & 쇼박스㈜미디어플렉스                      & 2012-07-25                                & 개봉영화                                  & 장편                                      & ...                                       & 0                                         & 0                                         & 0                                         & 0                                         & 0                                         & 0                                         & 0                                         & 0                                         & 0                                         & 0                                        \\\\\n",
       "\t  2                                        & 83893                                     & 광해, 왕이된남자                          & 추창민                                    & 리얼라이즈픽쳐스(주),씨제이이앤엠주식회사 & NA                                        & 씨제이이앤엠주식회사                      & 2012-09-13                                & 개봉영화                                  & 장편                                      & ...                                       & 0                                         & 0                                         & 0                                         & 0                                         & 0                                         & 0                                         & 0                                         & 0                                         & 0                                         & 0                                        \\\\\n",
       "\t  3                                        & 72363                                     & 어벤져스                                  & 조스웨던                                  & NA                                        & 한국소니픽쳐스릴리징브에나비스타영화㈜    & 한국소니픽쳐스릴리징브에나비스타영화㈜    & 2012-04-26                                & 개봉영화                                  & 장편                                      & ...                                       & 1                                         & 0                                         & 0                                         & 0                                         & 0                                         & 0                                         & 0                                         & 0                                         & 0                                         & 0                                        \\\\\n",
       "\t  4                                        & 88253                                     & 늑대소년                                  & 조성희                                    & (주)영화사비단길                          & NA                                        & 씨제이이앤엠주식회사                      & 2012-10-31                                & 개봉영화                                  & 장편                                      & ...                                       & 0                                         & 0                                         & 1                                         & 0                                         & 0                                         & 0                                         & 0                                         & 0                                         & 0                                         & 0                                        \\\\\n",
       "\t  5                                        & 72054                                     & 다크나이트라이즈                          & 크리스토퍼놀란                            & NA                                        & 워너브러더스코리아(주)                    & 워너브러더스코리아(주)                    & 2012-07-19                                & 개봉영화                                  & 장편                                      & ...                                       & 0                                         & 0                                         & 0                                         & 0                                         & 0                                         & 0                                         & 0                                         & 0                                         & 0                                         & 0                                        \\\\\n",
       "\t  6                                        & 86888                                     & 바람과함께사라지다                        & 김주호                                    & (주)두타연,(유)에이디사공육               & NA                                        & (주)넥스트엔터테인먼트월드(NEW)           & 2012-08-08                                & 개봉영화                                  & 장편                                      & ...                                       & 0                                         & 0                                         & 0                                         & 0                                         & 0                                         & 0                                         & 0                                         & 0                                         & 0                                         & 0                                        \\\\\n",
       "\t  7                                        & 66823                                     & 어메이징스파이더맨                        & 마크웹                                    & NA                                        & 한국소니픽쳐스릴리징브에나비스타영화㈜    & 한국소니픽쳐스릴리징브에나비스타영화㈜    & 2012-06-28                                & 개봉영화                                  & 장편                                      & ...                                       & 0                                         & 0                                         & 0                                         & 0                                         & 0                                         & 0                                         & 0                                         & 0                                         & 0                                         & 0                                        \\\\\n",
       "\t  8                                        & 82540                                     & 범죄와의전쟁: 나쁜놈들전성시대            & 윤종빈                                    & (주)팔레트픽처스,쇼박스㈜미디어플렉스     & NA                                        & 쇼박스㈜미디어플렉스                      & 2012-02-02                                & 개봉영화                                  & 장편                                      & ...                                       & 0                                         & 0                                         & 0                                         & 0                                         & 0                                         & 0                                         & 0                                         & 0                                         & 0                                         & 0                                        \\\\\n",
       "\t  9                                        & 89606                                     & 내아내의모든것                            & 민규동                                    & (주)수필름,영화사집                       & NA                                        & (주)넥스트엔터테인먼트월드(NEW)           & 2012-05-17                                & 개봉영화                                  & 장편                                      & ...                                       & 0                                         & 0                                         & 0                                         & 0                                         & 0                                         & 0                                         & 0                                         & 0                                         & 0                                         & 0                                        \\\\\n",
       "\t 10                                        & 88225                                     & 연가시                                    & 박정우                                    & (주)오죤필름                              & NA                                        & 씨제이이앤엠주식회사                      & 2012-07-05                                & 개봉영화                                  & 장편                                      & ...                                       & 1                                         & 0                                         & 0                                         & 0                                         & 0                                         & 0                                         & 0                                         & 0                                         & 0                                         & 0                                        \\\\\n",
       "\\end{tabular}\n"
      ],
      "text/markdown": [
       "\n",
       "| idx | code | m_name | director | productor | incomer | distributor | open | type1 | type2 | ... | sf | animation | fantasy | family | war | musical | daqu | play | etc | western |\n",
       "|---|---|---|---|---|---|---|---|---|---|---|---|---|---|---|---|---|---|---|---|---|\n",
       "|  1                                        | 78726                                     | 도둑들                                    | 최동훈                                    | (주)케이퍼필름                            | NA                                        | 쇼박스㈜미디어플렉스                      | 2012-07-25                                | 개봉영화                                  | 장편                                      | ...                                       | 0                                         | 0                                         | 0                                         | 0                                         | 0                                         | 0                                         | 0                                         | 0                                         | 0                                         | 0                                         |\n",
       "|  2                                        | 83893                                     | 광해, 왕이된남자                          | 추창민                                    | 리얼라이즈픽쳐스(주),씨제이이앤엠주식회사 | NA                                        | 씨제이이앤엠주식회사                      | 2012-09-13                                | 개봉영화                                  | 장편                                      | ...                                       | 0                                         | 0                                         | 0                                         | 0                                         | 0                                         | 0                                         | 0                                         | 0                                         | 0                                         | 0                                         |\n",
       "|  3                                        | 72363                                     | 어벤져스                                  | 조스웨던                                  | NA                                        | 한국소니픽쳐스릴리징브에나비스타영화㈜    | 한국소니픽쳐스릴리징브에나비스타영화㈜    | 2012-04-26                                | 개봉영화                                  | 장편                                      | ...                                       | 1                                         | 0                                         | 0                                         | 0                                         | 0                                         | 0                                         | 0                                         | 0                                         | 0                                         | 0                                         |\n",
       "|  4                                        | 88253                                     | 늑대소년                                  | 조성희                                    | (주)영화사비단길                          | NA                                        | 씨제이이앤엠주식회사                      | 2012-10-31                                | 개봉영화                                  | 장편                                      | ...                                       | 0                                         | 0                                         | 1                                         | 0                                         | 0                                         | 0                                         | 0                                         | 0                                         | 0                                         | 0                                         |\n",
       "|  5                                        | 72054                                     | 다크나이트라이즈                          | 크리스토퍼놀란                            | NA                                        | 워너브러더스코리아(주)                    | 워너브러더스코리아(주)                    | 2012-07-19                                | 개봉영화                                  | 장편                                      | ...                                       | 0                                         | 0                                         | 0                                         | 0                                         | 0                                         | 0                                         | 0                                         | 0                                         | 0                                         | 0                                         |\n",
       "|  6                                        | 86888                                     | 바람과함께사라지다                        | 김주호                                    | (주)두타연,(유)에이디사공육               | NA                                        | (주)넥스트엔터테인먼트월드(NEW)           | 2012-08-08                                | 개봉영화                                  | 장편                                      | ...                                       | 0                                         | 0                                         | 0                                         | 0                                         | 0                                         | 0                                         | 0                                         | 0                                         | 0                                         | 0                                         |\n",
       "|  7                                        | 66823                                     | 어메이징스파이더맨                        | 마크웹                                    | NA                                        | 한국소니픽쳐스릴리징브에나비스타영화㈜    | 한국소니픽쳐스릴리징브에나비스타영화㈜    | 2012-06-28                                | 개봉영화                                  | 장편                                      | ...                                       | 0                                         | 0                                         | 0                                         | 0                                         | 0                                         | 0                                         | 0                                         | 0                                         | 0                                         | 0                                         |\n",
       "|  8                                        | 82540                                     | 범죄와의전쟁: 나쁜놈들전성시대            | 윤종빈                                    | (주)팔레트픽처스,쇼박스㈜미디어플렉스     | NA                                        | 쇼박스㈜미디어플렉스                      | 2012-02-02                                | 개봉영화                                  | 장편                                      | ...                                       | 0                                         | 0                                         | 0                                         | 0                                         | 0                                         | 0                                         | 0                                         | 0                                         | 0                                         | 0                                         |\n",
       "|  9                                        | 89606                                     | 내아내의모든것                            | 민규동                                    | (주)수필름,영화사집                       | NA                                        | (주)넥스트엔터테인먼트월드(NEW)           | 2012-05-17                                | 개봉영화                                  | 장편                                      | ...                                       | 0                                         | 0                                         | 0                                         | 0                                         | 0                                         | 0                                         | 0                                         | 0                                         | 0                                         | 0                                         |\n",
       "| 10                                        | 88225                                     | 연가시                                    | 박정우                                    | (주)오죤필름                              | NA                                        | 씨제이이앤엠주식회사                      | 2012-07-05                                | 개봉영화                                  | 장편                                      | ...                                       | 1                                         | 0                                         | 0                                         | 0                                         | 0                                         | 0                                         | 0                                         | 0                                         | 0                                         | 0                                         |\n",
       "\n"
      ],
      "text/plain": [
       "   idx code  m_name                         director      \n",
       "1   1  78726 도둑들                         최동훈        \n",
       "2   2  83893 광해, 왕이된남자               추창민        \n",
       "3   3  72363 어벤져스                       조스웨던      \n",
       "4   4  88253 늑대소년                       조성희        \n",
       "5   5  72054 다크나이트라이즈               크리스토퍼놀란\n",
       "6   6  86888 바람과함께사라지다             김주호        \n",
       "7   7  66823 어메이징스파이더맨             마크웹        \n",
       "8   8  82540 범죄와의전쟁: 나쁜놈들전성시대 윤종빈        \n",
       "9   9  89606 내아내의모든것                 민규동        \n",
       "10 10  88225 연가시                         박정우        \n",
       "   productor                                \n",
       "1  (주)케이퍼필름                           \n",
       "2  리얼라이즈픽쳐스(주),씨제이이앤엠주식회사\n",
       "3  NA                                       \n",
       "4  (주)영화사비단길                         \n",
       "5  NA                                       \n",
       "6  (주)두타연,(유)에이디사공육              \n",
       "7  NA                                       \n",
       "8  (주)팔레트픽처스,쇼박스㈜미디어플렉스    \n",
       "9  (주)수필름,영화사집                      \n",
       "10 (주)오죤필름                             \n",
       "   incomer                               \n",
       "1  NA                                    \n",
       "2  NA                                    \n",
       "3  한국소니픽쳐스릴리징브에나비스타영화㈜\n",
       "4  NA                                    \n",
       "5  워너브러더스코리아(주)                \n",
       "6  NA                                    \n",
       "7  한국소니픽쳐스릴리징브에나비스타영화㈜\n",
       "8  NA                                    \n",
       "9  NA                                    \n",
       "10 NA                                    \n",
       "   distributor                            open       type1    type2 ... sf\n",
       "1  쇼박스㈜미디어플렉스                   2012-07-25 개봉영화 장편  ... 0 \n",
       "2  씨제이이앤엠주식회사                   2012-09-13 개봉영화 장편  ... 0 \n",
       "3  한국소니픽쳐스릴리징브에나비스타영화㈜ 2012-04-26 개봉영화 장편  ... 1 \n",
       "4  씨제이이앤엠주식회사                   2012-10-31 개봉영화 장편  ... 0 \n",
       "5  워너브러더스코리아(주)                 2012-07-19 개봉영화 장편  ... 0 \n",
       "6  (주)넥스트엔터테인먼트월드(NEW)        2012-08-08 개봉영화 장편  ... 0 \n",
       "7  한국소니픽쳐스릴리징브에나비스타영화㈜ 2012-06-28 개봉영화 장편  ... 0 \n",
       "8  쇼박스㈜미디어플렉스                   2012-02-02 개봉영화 장편  ... 0 \n",
       "9  (주)넥스트엔터테인먼트월드(NEW)        2012-05-17 개봉영화 장편  ... 0 \n",
       "10 씨제이이앤엠주식회사                   2012-07-05 개봉영화 장편  ... 1 \n",
       "   animation fantasy family war musical daqu play etc western\n",
       "1  0         0       0      0   0       0    0    0   0      \n",
       "2  0         0       0      0   0       0    0    0   0      \n",
       "3  0         0       0      0   0       0    0    0   0      \n",
       "4  0         1       0      0   0       0    0    0   0      \n",
       "5  0         0       0      0   0       0    0    0   0      \n",
       "6  0         0       0      0   0       0    0    0   0      \n",
       "7  0         0       0      0   0       0    0    0   0      \n",
       "8  0         0       0      0   0       0    0    0   0      \n",
       "9  0         0       0      0   0       0    0    0   0      \n",
       "10 0         0       0      0   0       0    0    0   0      "
      ]
     },
     "metadata": {},
     "output_type": "display_data"
    }
   ],
   "source": [
    "# 잘 들어갔는지 확인\n",
    "head(movie_total, 10)"
   ]
  },
  {
   "cell_type": "code",
   "execution_count": 36,
   "metadata": {
    "slideshow": {
     "slide_type": "slide"
    }
   },
   "outputs": [
    {
     "data": {
      "text/html": [],
      "text/latex": [],
      "text/markdown": [],
      "text/plain": [
       "<0 x 0 matrix>"
      ]
     },
     "metadata": {},
     "output_type": "display_data"
    }
   ],
   "source": [
    "# DimStyle 만들기\n",
    "dim_style <- \"CREATE TABLE DimStyle (\n",
    "                code varchar(255),\n",
    "                m_name varchar(255),\n",
    "                style varchar(255),\n",
    "                action VARCHAR(30),\n",
    "                history VARCHAR(30),\n",
    "                melo VARCHAR(30),\n",
    "                comedy VARCHAR(30),\n",
    "                sexual VARCHAR(30),\n",
    "                crime VARCHAR(30),\n",
    "                horror VARCHAR(30),\n",
    "                drama VARCHAR(30),\n",
    "                adventure VARCHAR(30),\n",
    "                mystery VARCHAR(30),\n",
    "                thrill VARCHAR(30),\n",
    "                sf VARCHAR(30),\n",
    "                animation VARCHAR(30),\n",
    "                fantasy VARCHAR(30),\n",
    "                family VARCHAR(30),\n",
    "                war VARCHAR(30),\n",
    "                musical VARCHAR(30),\n",
    "                daqu VARCHAR(30),\n",
    "                play VARCHAR(30),\n",
    "                etc VARCHAR(30),\n",
    "                western VARCHAR(30)\n",
    "            )\"\n",
    "dbGetQuery(con, dim_style)"
   ]
  },
  {
   "cell_type": "code",
   "execution_count": 37,
   "metadata": {
    "slideshow": {
     "slide_type": "slide"
    }
   },
   "outputs": [
    {
     "name": "stdout",
     "output_type": "stream",
     "text": [
      "Classes 'tbl_df', 'tbl' and 'data.frame':\t865 obs. of  24 variables:\n",
      " $ code     : num  78726 83893 72363 88253 72054 ...\n",
      " $ m_name   : chr  \"도둑들\" \"광해, 왕이된남자\" \"어벤져스\" \"늑대소년\" ...\n",
      " $ style    : chr  \"액션,범죄\" \"사극,드라마\" \"액션,SF\" \"멜로/로맨스,드라마,판타지\" ...\n",
      " $ action   : chr  \"1\" \"0\" \"1\" \"0\" ...\n",
      " $ history  : chr  \"0\" \"1\" \"0\" \"0\" ...\n",
      " $ melo     : chr  \"0\" \"0\" \"0\" \"1\" ...\n",
      " $ comedy   : chr  \"0\" \"0\" \"0\" \"0\" ...\n",
      " $ sexual   : chr  \"0\" \"0\" \"0\" \"0\" ...\n",
      " $ crime    : chr  \"1\" \"0\" \"0\" \"0\" ...\n",
      " $ horror   : chr  \"0\" \"0\" \"0\" \"0\" ...\n",
      " $ drama    : chr  \"0\" \"1\" \"0\" \"1\" ...\n",
      " $ adventure: chr  \"0\" \"0\" \"0\" \"0\" ...\n",
      " $ mystery  : chr  \"0\" \"0\" \"0\" \"0\" ...\n",
      " $ thrill   : chr  \"0\" \"0\" \"0\" \"0\" ...\n",
      " $ sf       : chr  \"0\" \"0\" \"1\" \"0\" ...\n",
      " $ animation: chr  \"0\" \"0\" \"0\" \"0\" ...\n",
      " $ fantasy  : chr  \"0\" \"0\" \"0\" \"1\" ...\n",
      " $ family   : chr  \"0\" \"0\" \"0\" \"0\" ...\n",
      " $ war      : chr  \"0\" \"0\" \"0\" \"0\" ...\n",
      " $ musical  : chr  \"0\" \"0\" \"0\" \"0\" ...\n",
      " $ daqu     : chr  \"0\" \"0\" \"0\" \"0\" ...\n",
      " $ play     : chr  \"0\" \"0\" \"0\" \"0\" ...\n",
      " $ etc      : chr  \"0\" \"0\" \"0\" \"0\" ...\n",
      " $ western  : chr  \"0\" \"0\" \"0\" \"0\" ...\n"
     ]
    }
   ],
   "source": [
    "# 필요한 컬럼만 추출\n",
    "movie_total_style <- movie_total[,c(\"code\", \"m_name\", \"style\", \"action\", \"history\",\n",
    "                                    \"melo\", \"comedy\", \"sexual\", \"crime\", \"horror\", \"drama\",\n",
    "                                    \"adventure\", \"mystery\", \"thrill\", \"sf\", \"animation\",\n",
    "                                    \"fantasy\", \"family\", \"war\", \"musical\", \"daqu\", \"play\",\n",
    "                                    \"etc\", \"western\")]\n",
    "str(movie_total_style)"
   ]
  },
  {
   "cell_type": "code",
   "execution_count": 38,
   "metadata": {
    "slideshow": {
     "slide_type": "slide"
    }
   },
   "outputs": [
    {
     "data": {
      "text/html": [
       "TRUE"
      ],
      "text/latex": [
       "TRUE"
      ],
      "text/markdown": [
       "TRUE"
      ],
      "text/plain": [
       "[1] TRUE"
      ]
     },
     "metadata": {},
     "output_type": "display_data"
    }
   ],
   "source": [
    "# DimStyle 테이블에 movie_total 데이터 insert\n",
    "a <- dbWriteTable(con, name = \"dimstyle\", value = movie_total_style, append = T, row.names=F)\n",
    "a"
   ]
  },
  {
   "cell_type": "code",
   "execution_count": 39,
   "metadata": {
    "slideshow": {
     "slide_type": "slide"
    }
   },
   "outputs": [
    {
     "data": {
      "text/html": [],
      "text/latex": [],
      "text/markdown": [],
      "text/plain": [
       "<0 x 0 matrix>"
      ]
     },
     "metadata": {},
     "output_type": "display_data"
    }
   ],
   "source": [
    "# DimDate 만들기\n",
    "dim_date <- \"CREATE TABLE DimDate(\n",
    "                datekey VARCHAR(255),\n",
    "                year VARCHAR(10),\n",
    "                month VARCHAR(10),\n",
    "                day VARCHAR(10),\n",
    "                datename VARCHAR(10)\n",
    "            )\"\n",
    "dbGetQuery(con, dim_date)"
   ]
  },
  {
   "cell_type": "code",
   "execution_count": 40,
   "metadata": {
    "slideshow": {
     "slide_type": "slide"
    }
   },
   "outputs": [
    {
     "data": {
      "text/html": [],
      "text/latex": [],
      "text/markdown": [],
      "text/plain": [
       "<0 x 0 matrix>"
      ]
     },
     "metadata": {},
     "output_type": "display_data"
    }
   ],
   "source": [
    "insert_facttable_to_dimdate <- \"INSERT INTO DimDate(datekey)\n",
    "                                    SELECT DISTINCT datekey\n",
    "                                    FROM FactTable\n",
    "                                    ORDER BY datekey\"\n",
    "dbGetQuery(con, insert_facttable_to_dimdate)"
   ]
  },
  {
   "cell_type": "code",
   "execution_count": 41,
   "metadata": {
    "slideshow": {
     "slide_type": "slide"
    }
   },
   "outputs": [
    {
     "data": {
      "text/html": [],
      "text/latex": [],
      "text/markdown": [],
      "text/plain": [
       "<0 x 0 matrix>"
      ]
     },
     "metadata": {},
     "output_type": "display_data"
    }
   ],
   "source": [
    "# Datekey 일 구분\n",
    "update_day <- \"UPDATE DimDate\n",
    "                SET day = day(datekey)\"\n",
    "dbGetQuery(con, update_day)"
   ]
  },
  {
   "cell_type": "code",
   "execution_count": 42,
   "metadata": {
    "slideshow": {
     "slide_type": "slide"
    }
   },
   "outputs": [
    {
     "data": {
      "text/html": [],
      "text/latex": [],
      "text/markdown": [],
      "text/plain": [
       "<0 x 0 matrix>"
      ]
     },
     "metadata": {},
     "output_type": "display_data"
    }
   ],
   "source": [
    "# Datekey 월 구분\n",
    "update_month <- \"UPDATE DimDate\n",
    "                SET month = month(datekey)\"\n",
    "dbGetQuery(con, update_month)"
   ]
  },
  {
   "cell_type": "code",
   "execution_count": 43,
   "metadata": {
    "slideshow": {
     "slide_type": "slide"
    }
   },
   "outputs": [
    {
     "data": {
      "text/html": [],
      "text/latex": [],
      "text/markdown": [],
      "text/plain": [
       "<0 x 0 matrix>"
      ]
     },
     "metadata": {},
     "output_type": "display_data"
    }
   ],
   "source": [
    "# Datekey 월 구분\n",
    "update_year <- \"UPDATE DimDate\n",
    "                SET year = year(datekey)\"\n",
    "dbGetQuery(con, update_year)"
   ]
  },
  {
   "cell_type": "code",
   "execution_count": 44,
   "metadata": {
    "slideshow": {
     "slide_type": "slide"
    }
   },
   "outputs": [
    {
     "data": {
      "text/html": [],
      "text/latex": [],
      "text/markdown": [],
      "text/plain": [
       "<0 x 0 matrix>"
      ]
     },
     "metadata": {},
     "output_type": "display_data"
    }
   ],
   "source": [
    "# Datekey 요일 구분\n",
    "update_datename <- \"UPDATE DimDate\n",
    "                SET datename = dayname(datekey)\"\n",
    "dbGetQuery(con, update_datename)"
   ]
  },
  {
   "cell_type": "code",
   "execution_count": 45,
   "metadata": {
    "slideshow": {
     "slide_type": "slide"
    }
   },
   "outputs": [
    {
     "data": {
      "text/html": [],
      "text/latex": [],
      "text/markdown": [],
      "text/plain": [
       "<0 x 0 matrix>"
      ]
     },
     "metadata": {},
     "output_type": "display_data"
    }
   ],
   "source": [
    "# DimNews 테이블 만들기\n",
    "dim_news <- \"CREATE TABLE DimNews(\n",
    "                code VARCHAR(255),\n",
    "                m_name VARCHAR(255),\n",
    "                news_count FLOAT\n",
    "            )\"\n",
    "dbGetQuery(con, dim_news)"
   ]
  },
  {
   "cell_type": "code",
   "execution_count": 46,
   "metadata": {
    "slideshow": {
     "slide_type": "slide"
    }
   },
   "outputs": [
    {
     "data": {
      "text/html": [],
      "text/latex": [],
      "text/markdown": [],
      "text/plain": [
       "<0 x 0 matrix>"
      ]
     },
     "metadata": {},
     "output_type": "display_data"
    }
   ],
   "source": [
    "# DimNews 테이블에 movie_news 데이터 insert\n",
    "insert_movie_news_to_dimnews <- \"INSERT INTO DimNews\n",
    "                                    SELECT DISTINCT code, m_name, news_count\n",
    "                                    FROM movie_news\"\n",
    "dbGetQuery(con, insert_movie_news_to_dimnews)"
   ]
  },
  {
   "cell_type": "code",
   "execution_count": 47,
   "metadata": {
    "slideshow": {
     "slide_type": "slide"
    }
   },
   "outputs": [
    {
     "data": {
      "text/html": [],
      "text/latex": [],
      "text/markdown": [],
      "text/plain": [
       "<0 x 0 matrix>"
      ]
     },
     "metadata": {},
     "output_type": "display_data"
    }
   ],
   "source": [
    "# DimWeather 테이블 만들기\n",
    "dim_weather <- \"CREATE TABLE DimWeather(\n",
    "                datekey VARCHAR(255),\n",
    "                rainfall FLOAT,\n",
    "                rain VARCHAR(30)\n",
    "                )\"\n",
    "dbGetQuery(con, dim_weather)"
   ]
  },
  {
   "cell_type": "code",
   "execution_count": 52,
   "metadata": {
    "slideshow": {
     "slide_type": "slide"
    }
   },
   "outputs": [
    {
     "data": {
      "text/html": [],
      "text/latex": [],
      "text/markdown": [],
      "text/plain": [
       "<0 x 0 matrix>"
      ]
     },
     "metadata": {},
     "output_type": "display_data"
    }
   ],
   "source": [
    "# DimWeather 테이블에 movie_weather 데이터 insert\n",
    "insert_movie_weather_dim_weather <- \"INSERT INTO DimWeather (datekey, rainfall)\n",
    "                                        SELECT datekey, rainfall\n",
    "                                        FROM movie_weather\"\n",
    "dbGetQuery(con, insert_movie_weather_dim_weather)"
   ]
  },
  {
   "cell_type": "code",
   "execution_count": 58,
   "metadata": {
    "slideshow": {
     "slide_type": "slide"
    }
   },
   "outputs": [
    {
     "data": {
      "text/html": [
       "<table>\n",
       "<thead><tr><th scope=col>datekey</th><th scope=col>datekey</th></tr></thead>\n",
       "<tbody>\n",
       "\t<tr><td>NA        </td><td>2013-01-08</td></tr>\n",
       "\t<tr><td>NA        </td><td>2013-01-09</td></tr>\n",
       "\t<tr><td>NA        </td><td>2013-08-06</td></tr>\n",
       "\t<tr><td>NA        </td><td>2013-08-07</td></tr>\n",
       "\t<tr><td>NA        </td><td>2013-08-08</td></tr>\n",
       "\t<tr><td>NA        </td><td>2013-08-09</td></tr>\n",
       "</tbody>\n",
       "</table>\n"
      ],
      "text/latex": [
       "\\begin{tabular}{r|ll}\n",
       " datekey & datekey\\\\\n",
       "\\hline\n",
       "\t NA         & 2013-01-08\\\\\n",
       "\t NA         & 2013-01-09\\\\\n",
       "\t NA         & 2013-08-06\\\\\n",
       "\t NA         & 2013-08-07\\\\\n",
       "\t NA         & 2013-08-08\\\\\n",
       "\t NA         & 2013-08-09\\\\\n",
       "\\end{tabular}\n"
      ],
      "text/markdown": [
       "\n",
       "| datekey | datekey |\n",
       "|---|---|\n",
       "| NA         | 2013-01-08 |\n",
       "| NA         | 2013-01-09 |\n",
       "| NA         | 2013-08-06 |\n",
       "| NA         | 2013-08-07 |\n",
       "| NA         | 2013-08-08 |\n",
       "| NA         | 2013-08-09 |\n",
       "\n"
      ],
      "text/plain": [
       "  datekey datekey   \n",
       "1 NA      2013-01-08\n",
       "2 NA      2013-01-09\n",
       "3 NA      2013-08-06\n",
       "4 NA      2013-08-07\n",
       "5 NA      2013-08-08\n",
       "6 NA      2013-08-09"
      ]
     },
     "metadata": {},
     "output_type": "display_data"
    },
    {
     "name": "stdout",
     "output_type": "stream",
     "text": [
      "[1] 37\n"
     ]
    }
   ],
   "source": [
    "# DimWeather 테이블의 잘못 들어간 코드 찾기\n",
    "mis_data <- \"SELECT DISTINCT a.datekey, b.datekey\n",
    "            FROM DimDate as a right outer join DimWeather as b\n",
    "                on a.datekey = b.datekey\n",
    "                where a.datekey is null\"\n",
    "mis_data_check <- dbGetQuery(con, mis_data)\n",
    "head(mis_data_check)\n",
    "print(NROW(mis_data_check))"
   ]
  },
  {
   "cell_type": "code",
   "execution_count": 60,
   "metadata": {
    "slideshow": {
     "slide_type": "slide"
    }
   },
   "outputs": [
    {
     "data": {
      "text/html": [],
      "text/latex": [],
      "text/markdown": [],
      "text/plain": [
       "<0 x 0 matrix>"
      ]
     },
     "metadata": {},
     "output_type": "display_data"
    }
   ],
   "source": [
    "# 잘못 들어간 코드 삭제\n",
    "delete_mis_data <- \"DELETE FROM DimWeather\n",
    "                    WHERE datekey in\n",
    "                            (SELECT datekey\n",
    "                            FROM\n",
    "                                (SELECT DISTINCT b.datekey\n",
    "                                FROM DimDate as a right outer join DimWeather as b\n",
    "                                ON a.datekey = b.datekey\n",
    "                                WHERE a.datekey is null)tmp)\"\n",
    "dbGetQuery(con, delete_mis_data)"
   ]
  },
  {
   "cell_type": "code",
   "execution_count": 61,
   "metadata": {
    "slideshow": {
     "slide_type": "slide"
    }
   },
   "outputs": [
    {
     "data": {
      "text/html": [],
      "text/latex": [],
      "text/markdown": [],
      "text/plain": [
       "<0 x 0 matrix>"
      ]
     },
     "metadata": {},
     "output_type": "display_data"
    }
   ],
   "source": [
    "# 강수량을 기준으로 비가 왔는지 안왔는지 확인 후 업데이트\n",
    "update_rainfall_2 <- \"UPDATE DimWeather\n",
    "                        SET rain = '2'\n",
    "                        WHERE rainfall < 1\"\n",
    "dbGetQuery(con, update_rainfall_2)"
   ]
  },
  {
   "cell_type": "code",
   "execution_count": 62,
   "metadata": {
    "slideshow": {
     "slide_type": "slide"
    }
   },
   "outputs": [
    {
     "data": {
      "text/html": [],
      "text/latex": [],
      "text/markdown": [],
      "text/plain": [
       "<0 x 0 matrix>"
      ]
     },
     "metadata": {},
     "output_type": "display_data"
    }
   ],
   "source": [
    "# 강수량을 기준으로 비가 왔는지 안왔는지 확인 후 업데이트\n",
    "update_rainfall_1 <- \"UPDATE DimWeather\n",
    "                        SET rain = '1'\n",
    "                        WHERE rainfall >= 1\"\n",
    "dbGetQuery(con, update_rainfall_1)"
   ]
  },
  {
   "cell_type": "code",
   "execution_count": null,
   "metadata": {},
   "outputs": [],
   "source": []
  },
  {
   "cell_type": "code",
   "execution_count": 30,
   "metadata": {},
   "outputs": [],
   "source": [
    "# DB와 연결 종료\n",
    "# dbDisconnect(con)"
   ]
  }
 ],
 "metadata": {
  "celltoolbar": "Slideshow",
  "kernelspec": {
   "display_name": "R",
   "language": "R",
   "name": "ir"
  },
  "language_info": {
   "codemirror_mode": "r",
   "file_extension": ".r",
   "mimetype": "text/x-r-source",
   "name": "R",
   "pygments_lexer": "r",
   "version": "3.5.2"
  }
 },
 "nbformat": 4,
 "nbformat_minor": 2
}
