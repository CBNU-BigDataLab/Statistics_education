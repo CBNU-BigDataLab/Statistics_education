{
 "cells": [
  {
   "cell_type": "markdown",
   "metadata": {
    "slideshow": {
     "slide_type": "slide"
    }
   },
   "source": [
    "## R과 Tableau를 활용한\n",
    "# 공공자전거 이용데이터 분석 및 시각화\n",
    "* 충북대학교 빅데이터센터\n",
    "* 작성자 : 이경희\n",
    "* 작성일자 : '17.06.01\n"
   ]
  },
  {
   "cell_type": "markdown",
   "metadata": {
    "slideshow": {
     "slide_type": "slide"
    }
   },
   "source": [
    "R 버전 확인하기"
   ]
  },
  {
   "cell_type": "code",
   "execution_count": 1,
   "metadata": {},
   "outputs": [
    {
     "data": {
      "text/plain": [
       "               _                           \n",
       "platform       x86_64-w64-mingw32          \n",
       "arch           x86_64                      \n",
       "os             mingw32                     \n",
       "system         x86_64, mingw32             \n",
       "status                                     \n",
       "major          3                           \n",
       "minor          5.2                         \n",
       "year           2018                        \n",
       "month          12                          \n",
       "day            20                          \n",
       "svn rev        75870                       \n",
       "language       R                           \n",
       "version.string R version 3.5.2 (2018-12-20)\n",
       "nickname       Eggshell Igloo              "
      ]
     },
     "metadata": {},
     "output_type": "display_data"
    }
   ],
   "source": [
    "version"
   ]
  },
  {
   "cell_type": "markdown",
   "metadata": {
    "slideshow": {
     "slide_type": "slide"
    }
   },
   "source": [
    "## 1. 타슈 데이터 입력\n",
    "* 다운로드 받은 공공자전거 타슈 대여현황 데이터를 분석하기 위하여 데이터를 R로 읽어들이는 과정\n",
    "* 파일에서 데이터를 읽기위하여 필요한 readxl 라이브러리를 설치되어 있는지 확인한 다음 readxl 라이브러리 임포트"
   ]
  },
  {
   "cell_type": "code",
   "execution_count": 2,
   "metadata": {},
   "outputs": [],
   "source": [
    "#install.packages(\"readxl\")\n",
    "library(readxl)"
   ]
  },
  {
   "cell_type": "markdown",
   "metadata": {},
   "source": [
    "* csv 파일 지정 및 읽기"
   ]
  },
  {
   "cell_type": "code",
   "execution_count": 3,
   "metadata": {},
   "outputs": [],
   "source": [
    "tashu_2013 <- read_excel(\"./data/Tashu_data/tashu_rental info_2013_01.xlsx\")"
   ]
  },
  {
   "cell_type": "markdown",
   "metadata": {
    "slideshow": {
     "slide_type": "slide"
    }
   },
   "source": [
    "## 2. 데이터에 포함된 결측치 확인 및 제거\n",
    "* 각 컬럼의 데이터 타입이 잘 지정되었는지 확인함\n",
    "* 또한 summary()함수를 통해 데이터 값의 분포 등도 확인함\n",
    "* 전체 레코드 개수, 최솟값, 최댓값, 중앙값, 사분위값 및 결측치가 각 컬럼에 몇건정도 포함되어 있는지 확인함"
   ]
  },
  {
   "cell_type": "code",
   "execution_count": 4,
   "metadata": {},
   "outputs": [
    {
     "data": {
      "text/plain": [
       "  IS_MEMBER          RENT_STATION    RENT_DATE         RETURN_STATION  \n",
       " Length:414639      Min.   :  1.0   Length:414639      Min.   :  1.00  \n",
       " Class :character   1st Qu.: 16.0   Class :character   1st Qu.: 16.00  \n",
       " Mode  :character   Median : 34.0   Mode  :character   Median : 34.00  \n",
       "                    Mean   : 42.2                      Mean   : 42.24  \n",
       "                    3rd Qu.: 60.0                      3rd Qu.: 60.00  \n",
       "                    Max.   :114.0                      Max.   :135.00  \n",
       "                    NA's   :322                        NA's   :1414    \n",
       " RETURN_DATE       \n",
       " Length:414639     \n",
       " Class :character  \n",
       " Mode  :character  \n",
       "                   \n",
       "                   \n",
       "                   \n",
       "                   "
      ]
     },
     "metadata": {},
     "output_type": "display_data"
    }
   ],
   "source": [
    "summary(tashu_2013)"
   ]
  },
  {
   "cell_type": "markdown",
   "metadata": {},
   "source": [
    "* 전체 레코드 414639건 중에서 대여 스테이션(rent_station)에 결측값 322개, <br/>반납 스테이션(return_station)에 1414건이 포함되어 있는 것을 확인할 수 있음"
   ]
  },
  {
   "cell_type": "markdown",
   "metadata": {
    "slideshow": {
     "slide_type": "slide"
    }
   },
   "source": [
    "## 3. 컬럼의 데이터 타입 변환\n",
    "* str()함수를 통해 tashu_2013의 각 컬럼별 데이터 타입과 데이터 일부 미리보기를 할 수 있음"
   ]
  },
  {
   "cell_type": "code",
   "execution_count": 5,
   "metadata": {},
   "outputs": [
    {
     "name": "stdout",
     "output_type": "stream",
     "text": [
      "Classes 'tbl_df', 'tbl' and 'data.frame':\t414639 obs. of  5 variables:\n",
      " $ IS_MEMBER     : chr  \"No\" \"No\" \"No\" \"No\" ...\n",
      " $ RENT_STATION  : num  43 97 2 106 4 21 90 13 1 1 ...\n",
      " $ RENT_DATE     : chr  \"20130101055603\" \"20130101060400\" \"20130101060406\" \"20130101105305\" ...\n",
      " $ RETURN_STATION: num  34 NA 10 105 4 105 91 30 1 2 ...\n",
      " $ RETURN_DATE   : chr  \"20130101060217\" \"20130101102037\" \"20130101061859\" \"20130101105743\" ...\n"
     ]
    }
   ],
   "source": [
    "str(tashu_2013)"
   ]
  },
  {
   "cell_type": "markdown",
   "metadata": {
    "slideshow": {
     "slide_type": "slide"
    }
   },
   "source": [
    "* 대여 스테이션(rent_station)과 반환 스테이션(return_station) 컬럼은 문자열로 변환"
   ]
  },
  {
   "cell_type": "code",
   "execution_count": 6,
   "metadata": {},
   "outputs": [],
   "source": [
    "tashu_2013$RENT_STATION <-as.character(tashu_2013$RENT_STATION)\n",
    "tashu_2013$RETURN_STATION <-as.character(tashu_2013$RETURN_STATION)"
   ]
  },
  {
   "cell_type": "markdown",
   "metadata": {
    "slideshow": {
     "slide_type": "slide"
    }
   },
   "source": [
    "* 타입 변환 결과 확인"
   ]
  },
  {
   "cell_type": "code",
   "execution_count": 7,
   "metadata": {},
   "outputs": [
    {
     "name": "stdout",
     "output_type": "stream",
     "text": [
      "Classes 'tbl_df', 'tbl' and 'data.frame':\t414639 obs. of  5 variables:\n",
      " $ IS_MEMBER     : chr  \"No\" \"No\" \"No\" \"No\" ...\n",
      " $ RENT_STATION  : chr  \"43\" \"97\" \"2\" \"106\" ...\n",
      " $ RENT_DATE     : chr  \"20130101055603\" \"20130101060400\" \"20130101060406\" \"20130101105305\" ...\n",
      " $ RETURN_STATION: chr  \"34\" NA \"10\" \"105\" ...\n",
      " $ RETURN_DATE   : chr  \"20130101060217\" \"20130101102037\" \"20130101061859\" \"20130101105743\" ...\n"
     ]
    }
   ],
   "source": [
    "str(tashu_2013)"
   ]
  },
  {
   "cell_type": "markdown",
   "metadata": {
    "slideshow": {
     "slide_type": "slide"
    }
   },
   "source": [
    "## 4. 결측치 확인\n",
    "* is.na()함수를 통해 tashu_2013 변수 중 결측치를 확인할 수 있음"
   ]
  },
  {
   "cell_type": "code",
   "execution_count": 8,
   "metadata": {},
   "outputs": [
    {
     "data": {
      "text/html": [
       "1740"
      ],
      "text/latex": [
       "1740"
      ],
      "text/markdown": [
       "1740"
      ],
      "text/plain": [
       "[1] 1740"
      ]
     },
     "metadata": {},
     "output_type": "display_data"
    },
    {
     "data": {
      "text/html": [
       "<dl class=dl-horizontal>\n",
       "\t<dt>IS_MEMBER</dt>\n",
       "\t\t<dd>0</dd>\n",
       "\t<dt>RENT_STATION</dt>\n",
       "\t\t<dd>322</dd>\n",
       "\t<dt>RENT_DATE</dt>\n",
       "\t\t<dd>0</dd>\n",
       "\t<dt>RETURN_STATION</dt>\n",
       "\t\t<dd>1414</dd>\n",
       "\t<dt>RETURN_DATE</dt>\n",
       "\t\t<dd>4</dd>\n",
       "</dl>\n"
      ],
      "text/latex": [
       "\\begin{description*}\n",
       "\\item[IS\\textbackslash{}\\_MEMBER] 0\n",
       "\\item[RENT\\textbackslash{}\\_STATION] 322\n",
       "\\item[RENT\\textbackslash{}\\_DATE] 0\n",
       "\\item[RETURN\\textbackslash{}\\_STATION] 1414\n",
       "\\item[RETURN\\textbackslash{}\\_DATE] 4\n",
       "\\end{description*}\n"
      ],
      "text/markdown": [
       "IS_MEMBER\n",
       ":   0RENT_STATION\n",
       ":   322RENT_DATE\n",
       ":   0RETURN_STATION\n",
       ":   1414RETURN_DATE\n",
       ":   4\n",
       "\n"
      ],
      "text/plain": [
       "     IS_MEMBER   RENT_STATION      RENT_DATE RETURN_STATION    RETURN_DATE \n",
       "             0            322              0           1414              4 "
      ]
     },
     "metadata": {},
     "output_type": "display_data"
    }
   ],
   "source": [
    "sum(is.na(tashu_2013))\n",
    "apply(tashu_2013, 2, function(x){sum(is.na(x))})"
   ]
  },
  {
   "cell_type": "markdown",
   "metadata": {
    "slideshow": {
     "slide_type": "slide"
    }
   },
   "source": [
    "* mice 패키지는 결측치의 패턴을 이해하는 더 좋은 방법을 제안하기 위한 함수를 제공하는 패키지\n",
    "* md.pattern() 함수를 이용하면 결측치의 패턴을 이해하는데 용이함"
   ]
  },
  {
   "cell_type": "code",
   "execution_count": 9,
   "metadata": {},
   "outputs": [
    {
     "name": "stderr",
     "output_type": "stream",
     "text": [
      "Loading required package: lattice\n",
      "\n",
      "Attaching package: 'mice'\n",
      "\n",
      "The following objects are masked from 'package:base':\n",
      "\n",
      "    cbind, rbind\n",
      "\n"
     ]
    }
   ],
   "source": [
    "# install.packages(\"mice\")\n",
    "library(mice)"
   ]
  },
  {
   "cell_type": "code",
   "execution_count": 10,
   "metadata": {
    "slideshow": {
     "slide_type": "skip"
    }
   },
   "outputs": [],
   "source": [
    "show_pattern <- function(x) {\n",
    "    md.pattern(x)\n",
    "}"
   ]
  },
  {
   "cell_type": "code",
   "execution_count": 11,
   "metadata": {
    "slideshow": {
     "slide_type": "slide"
    }
   },
   "outputs": [
    {
     "data": {
      "text/html": [
       "<table>\n",
       "<thead><tr><th></th><th scope=col>IS_MEMBER</th><th scope=col>RENT_DATE</th><th scope=col>RETURN_DATE</th><th scope=col>RENT_STATION</th><th scope=col>RETURN_STATION</th><th scope=col></th></tr></thead>\n",
       "<tbody>\n",
       "\t<tr><th scope=row>413066</th><td>1   </td><td>1   </td><td>1   </td><td>  1 </td><td>   1</td><td>   0</td></tr>\n",
       "\t<tr><th scope=row>1247</th><td>1   </td><td>1   </td><td>1   </td><td>  1 </td><td>   0</td><td>   1</td></tr>\n",
       "\t<tr><th scope=row>159</th><td>1   </td><td>1   </td><td>1   </td><td>  0 </td><td>   1</td><td>   1</td></tr>\n",
       "\t<tr><th scope=row>163</th><td>1   </td><td>1   </td><td>1   </td><td>  0 </td><td>   0</td><td>   2</td></tr>\n",
       "\t<tr><th scope=row>4</th><td>1   </td><td>1   </td><td>0   </td><td>  1 </td><td>   0</td><td>   2</td></tr>\n",
       "\t<tr><th scope=row></th><td>0   </td><td>0   </td><td>4   </td><td>322 </td><td>1414</td><td>1740</td></tr>\n",
       "</tbody>\n",
       "</table>\n"
      ],
      "text/latex": [
       "\\begin{tabular}{r|llllll}\n",
       "  & IS\\_MEMBER & RENT\\_DATE & RETURN\\_DATE & RENT\\_STATION & RETURN\\_STATION & \\\\\n",
       "\\hline\n",
       "\t413066 & 1    & 1    & 1    &   1  &    1 &    0\\\\\n",
       "\t1247 & 1    & 1    & 1    &   1  &    0 &    1\\\\\n",
       "\t159 & 1    & 1    & 1    &   0  &    1 &    1\\\\\n",
       "\t163 & 1    & 1    & 1    &   0  &    0 &    2\\\\\n",
       "\t4 & 1    & 1    & 0    &   1  &    0 &    2\\\\\n",
       "\t & 0    & 0    & 4    & 322  & 1414 & 1740\\\\\n",
       "\\end{tabular}\n"
      ],
      "text/markdown": [
       "\n",
       "| <!--/--> | IS_MEMBER | RENT_DATE | RETURN_DATE | RENT_STATION | RETURN_STATION |  |\n",
       "|---|---|---|---|---|---|---|\n",
       "| 413066 | 1    | 1    | 1    |   1  |    1 |    0 |\n",
       "| 1247 | 1    | 1    | 1    |   1  |    0 |    1 |\n",
       "| 159 | 1    | 1    | 1    |   0  |    1 |    1 |\n",
       "| 163 | 1    | 1    | 1    |   0  |    0 |    2 |\n",
       "| 4 | 1    | 1    | 0    |   1  |    0 |    2 |\n",
       "|  | 0    | 0    | 4    | 322  | 1414 | 1740 |\n",
       "\n"
      ],
      "text/plain": [
       "       IS_MEMBER RENT_DATE RETURN_DATE RENT_STATION RETURN_STATION     \n",
       "413066 1         1         1             1             1              0\n",
       "1247   1         1         1             1             0              1\n",
       "159    1         1         1             0             1              1\n",
       "163    1         1         1             0             0              2\n",
       "4      1         1         0             1             0              2\n",
       "       0         0         4           322          1414           1740"
      ]
     },
     "metadata": {},
     "output_type": "display_data"
    },
    {
     "data": {
      "image/png": "[encoded data removed]",
      "text/plain": [
       "plot without title"
      ]
     },
     "metadata": {},
     "output_type": "display_data"
    }
   ],
   "source": [
    "show_pattern(tashu_2013)\n",
    "# md.pattern(tashu_2013)"
   ]
  },
  {
   "cell_type": "markdown",
   "metadata": {
    "slideshow": {
     "slide_type": "subslide"
    }
   },
   "source": [
    "# 표 결과 해석\n",
    "  ## 표의 첫 줄의 각 변수의 이름을 나타냄\n",
    "    * 표 안의 내용에서 1인 경우 결측치가 없음, 0인 경우 결측치가 있음을 나타냄\n",
    "* 413066개의 레코드는 결측치가 없음\n",
    "* Row별 해석\n",
    "* 1247개의 레코드는 RETURN_STATION 컬럼의 값에 결측치가 있음 => 결측치가 있는 변수 0개\n",
    "* 159개의 레코드는 RENT_STATION 컬럼의 값에 결측치가 있음 => 결측치가 있는 변수 1개\n",
    "* 163개의 레코드는 RENT_STATION과 RETURN_STATION 컬럼의 값 모두 결측치가 있음 => 결측치가 있는 변수 2개\n",
    "* 4개의 레코드는 RETURN_DATE와 RETURN_STATION 컬럼의 값 모두 결측치가 있음 => 결측치가 있는 변수 2개\n",
    "* Column별 해석\n",
    "* IS_MEMBER 컬럼은 결측치가 없음\n",
    "* RENT_DATE 컬럼은 결측치가 없음\n",
    "* RETURN_DATE 컬럼은 4개의 레코드가 결측치가 있음\n",
    "* RENT_STATION 컬럼은 322개의 레코드가 결측치가 있음\n",
    "* RETURN_STATION 컬럼은 1414개의 레코드가 결측치가 있음\n",
    "* 총 1740개의 레코드가 결측치가 있으며, 413066개의 레코드는 결측치가 없다."
   ]
  },
  {
   "cell_type": "markdown",
   "metadata": {
    "slideshow": {
     "slide_type": "slide"
    }
   },
   "source": [
    "* 결측치 시각화"
   ]
  },
  {
   "cell_type": "code",
   "execution_count": 12,
   "metadata": {},
   "outputs": [
    {
     "name": "stderr",
     "output_type": "stream",
     "text": [
      "Loading required package: colorspace\n",
      "Loading required package: grid\n",
      "Loading required package: data.table\n",
      "VIM is ready to use. \n",
      " Since version 4.0.0 the GUI is in its own package VIMGUI.\n",
      "\n",
      "          Please use the package to use the new (and old) GUI.\n",
      "\n",
      "Suggestions and bug-reports can be submitted at: https://github.com/alexkowa/VIM/issues\n",
      "\n",
      "Attaching package: 'VIM'\n",
      "\n",
      "The following object is masked from 'package:datasets':\n",
      "\n",
      "    sleep\n",
      "\n"
     ]
    }
   ],
   "source": [
    "#install.packages(\"VIM\")\n",
    "library(VIM)"
   ]
  },
  {
   "cell_type": "code",
   "execution_count": 13,
   "metadata": {},
   "outputs": [],
   "source": [
    "xlabels = c(\"IS_MEMBER\", \"RENT_DATE\", \"RENT_STATION\", \"RETURN_DATE\",  \"RETURN_STATION\")"
   ]
  },
  {
   "cell_type": "code",
   "execution_count": 14,
   "metadata": {},
   "outputs": [
    {
     "name": "stderr",
     "output_type": "stream",
     "text": [
      "Warning message in plot.aggr(res, ...):\n",
      "\"not enough horizontal space to display frequencies\""
     ]
    },
    {
     "name": "stdout",
     "output_type": "stream",
     "text": [
      "\n",
      " Variables sorted by number of missings: \n",
      "       Variable        Count\n",
      "    RETURN_DATE 3.410195e-03\n",
      "      RENT_DATE 7.765791e-04\n",
      " RETURN_STATION 9.646946e-06\n",
      "      IS_MEMBER 0.000000e+00\n",
      "   RENT_STATION 0.000000e+00\n"
     ]
    },
    {
     "data": {
      "image/png": "[encoded data removed]",
      "text/plain": [
       "plot without title"
      ]
     },
     "metadata": {},
     "output_type": "display_data"
    }
   ],
   "source": [
    "aggr_plot <- aggr(tashu_2013, col=c('navyblue', 'red'), numbers=TRUE, sortVars=TRUE, labels=xlabels, cex.axis =.7, gap=3, ylab=c(\"Histogram of missing data\", \"Pattern\"))"
   ]
  },
  {
   "cell_type": "markdown",
   "metadata": {
    "slideshow": {
     "slide_type": "slide"
    }
   },
   "source": [
    "## 5. 결측치 제거\n",
    "* 결측치 제거 함수 na.omit()을 사용"
   ]
  },
  {
   "cell_type": "code",
   "execution_count": 15,
   "metadata": {},
   "outputs": [
    {
     "data": {
      "text/plain": [
       "  IS_MEMBER         RENT_STATION        RENT_DATE         RETURN_STATION    \n",
       " Length:413066      Length:413066      Length:413066      Length:413066     \n",
       " Class :character   Class :character   Class :character   Class :character  \n",
       " Mode  :character   Mode  :character   Mode  :character   Mode  :character  \n",
       " RETURN_DATE       \n",
       " Length:413066     \n",
       " Class :character  \n",
       " Mode  :character  "
      ]
     },
     "metadata": {},
     "output_type": "display_data"
    },
    {
     "name": "stdout",
     "output_type": "stream",
     "text": [
      "Classes 'tbl_df', 'tbl' and 'data.frame':\t413066 obs. of  5 variables:\n",
      " $ IS_MEMBER     : chr  \"No\" \"No\" \"No\" \"Yes\" ...\n",
      " $ RENT_STATION  : chr  \"43\" \"2\" \"106\" \"4\" ...\n",
      " $ RENT_DATE     : chr  \"20130101055603\" \"20130101060406\" \"20130101105305\" \"20130101112223\" ...\n",
      " $ RETURN_STATION: chr  \"34\" \"10\" \"105\" \"4\" ...\n",
      " $ RETURN_DATE   : chr  \"20130101060217\" \"20130101061859\" \"20130101105743\" \"20130101121753\" ...\n",
      " - attr(*, \"na.action\")= 'omit' Named int  2 66 268 308 311 432 550 587 758 779 ...\n",
      "  ..- attr(*, \"names\")= chr  \"2\" \"66\" \"268\" \"308\" ...\n"
     ]
    }
   ],
   "source": [
    "newTashu2013 <- na.omit(tashu_2013)\n",
    "summary(newTashu2013)\n",
    "str(newTashu2013)"
   ]
  },
  {
   "cell_type": "code",
   "execution_count": 16,
   "metadata": {
    "slideshow": {
     "slide_type": "slide"
    }
   },
   "outputs": [],
   "source": [
    "names(newTashu2013) <- c(\"IS_MEMBER\", \"RENT_STATION\", \"RENT_DATE_TIME\", \"RETURN_STATION\",  \"RETURN_DATE_TIME\")"
   ]
  },
  {
   "cell_type": "code",
   "execution_count": 17,
   "metadata": {},
   "outputs": [],
   "source": [
    "newTashu2013$RENT_DATE <- substr(newTashu2013$RENT_DATE_TIME, 1, 8)"
   ]
  },
  {
   "cell_type": "code",
   "execution_count": 18,
   "metadata": {},
   "outputs": [
    {
     "data": {
      "text/html": [
       "<table>\n",
       "<thead><tr><th scope=col>IS_MEMBER</th><th scope=col>RENT_STATION</th><th scope=col>RENT_DATE_TIME</th><th scope=col>RETURN_STATION</th><th scope=col>RETURN_DATE_TIME</th><th scope=col>RENT_DATE</th></tr></thead>\n",
       "<tbody>\n",
       "\t<tr><td>No            </td><td>43            </td><td>20130101055603</td><td>34            </td><td>20130101060217</td><td>20130101      </td></tr>\n",
       "\t<tr><td>No            </td><td>2             </td><td>20130101060406</td><td>10            </td><td>20130101061859</td><td>20130101      </td></tr>\n",
       "\t<tr><td>No            </td><td>106           </td><td>20130101105305</td><td>105           </td><td>20130101105743</td><td>20130101      </td></tr>\n",
       "\t<tr><td>Yes           </td><td>4             </td><td>20130101112223</td><td>4             </td><td>20130101121753</td><td>20130101      </td></tr>\n",
       "\t<tr><td>No            </td><td>21            </td><td>20130101113953</td><td>105           </td><td>20130101114943</td><td>20130101      </td></tr>\n",
       "\t<tr><td>No            </td><td>90            </td><td>20130101120833</td><td>91            </td><td>20130101125136</td><td>20130101      </td></tr>\n",
       "</tbody>\n",
       "</table>\n"
      ],
      "text/latex": [
       "\\begin{tabular}{r|llllll}\n",
       " IS\\_MEMBER & RENT\\_STATION & RENT\\_DATE\\_TIME & RETURN\\_STATION & RETURN\\_DATE\\_TIME & RENT\\_DATE\\\\\n",
       "\\hline\n",
       "\t No             & 43             & 20130101055603 & 34             & 20130101060217 & 20130101      \\\\\n",
       "\t No             & 2              & 20130101060406 & 10             & 20130101061859 & 20130101      \\\\\n",
       "\t No             & 106            & 20130101105305 & 105            & 20130101105743 & 20130101      \\\\\n",
       "\t Yes            & 4              & 20130101112223 & 4              & 20130101121753 & 20130101      \\\\\n",
       "\t No             & 21             & 20130101113953 & 105            & 20130101114943 & 20130101      \\\\\n",
       "\t No             & 90             & 20130101120833 & 91             & 20130101125136 & 20130101      \\\\\n",
       "\\end{tabular}\n"
      ],
      "text/markdown": [
       "\n",
       "| IS_MEMBER | RENT_STATION | RENT_DATE_TIME | RETURN_STATION | RETURN_DATE_TIME | RENT_DATE |\n",
       "|---|---|---|---|---|---|\n",
       "| No             | 43             | 20130101055603 | 34             | 20130101060217 | 20130101       |\n",
       "| No             | 2              | 20130101060406 | 10             | 20130101061859 | 20130101       |\n",
       "| No             | 106            | 20130101105305 | 105            | 20130101105743 | 20130101       |\n",
       "| Yes            | 4              | 20130101112223 | 4              | 20130101121753 | 20130101       |\n",
       "| No             | 21             | 20130101113953 | 105            | 20130101114943 | 20130101       |\n",
       "| No             | 90             | 20130101120833 | 91             | 20130101125136 | 20130101       |\n",
       "\n"
      ],
      "text/plain": [
       "  IS_MEMBER RENT_STATION RENT_DATE_TIME RETURN_STATION RETURN_DATE_TIME\n",
       "1 No        43           20130101055603 34             20130101060217  \n",
       "2 No        2            20130101060406 10             20130101061859  \n",
       "3 No        106          20130101105305 105            20130101105743  \n",
       "4 Yes       4            20130101112223 4              20130101121753  \n",
       "5 No        21           20130101113953 105            20130101114943  \n",
       "6 No        90           20130101120833 91             20130101125136  \n",
       "  RENT_DATE\n",
       "1 20130101 \n",
       "2 20130101 \n",
       "3 20130101 \n",
       "4 20130101 \n",
       "5 20130101 \n",
       "6 20130101 "
      ]
     },
     "metadata": {},
     "output_type": "display_data"
    }
   ],
   "source": [
    "head(newTashu2013)"
   ]
  },
  {
   "cell_type": "markdown",
   "metadata": {},
   "source": []
  }
 ],
 "metadata": {
  "celltoolbar": "Slideshow",
  "kernelspec": {
   "display_name": "R",
   "language": "R",
   "name": "ir"
  },
  "language_info": {
   "codemirror_mode": "r",
   "file_extension": ".r",
   "mimetype": "text/x-r-source",
   "name": "R",
   "pygments_lexer": "r",
   "version": "3.5.2"
  }
 },
 "nbformat": 4,
 "nbformat_minor": 2
}
